{
 "cells": [
  {
   "cell_type": "markdown",
   "id": "1a268ac3",
   "metadata": {},
   "source": [
    "## Title - Analyse a data set which contains the hourly and daily count of rental bikes in a Capital bikeshare system with the corresponding weather and seasonal information\n",
    "The goal of our analysis is to predict the count of total rental bikes including both casual and registered"
   ]
  },
  {
   "cell_type": "code",
   "execution_count": 83,
   "id": "f01fc8ad",
   "metadata": {},
   "outputs": [],
   "source": [
    "import numpy as np\n",
    "import pandas as pd\n",
    "import matplotlib.pyplot as plt\n",
    "import seaborn as sns\n",
    "%matplotlib inline\n",
    "sns.set()"
   ]
  },
  {
   "cell_type": "code",
   "execution_count": 84,
   "id": "3960b385",
   "metadata": {},
   "outputs": [
    {
     "data": {
      "text/html": [
       "<div>\n",
       "<style scoped>\n",
       "    .dataframe tbody tr th:only-of-type {\n",
       "        vertical-align: middle;\n",
       "    }\n",
       "\n",
       "    .dataframe tbody tr th {\n",
       "        vertical-align: top;\n",
       "    }\n",
       "\n",
       "    .dataframe thead th {\n",
       "        text-align: right;\n",
       "    }\n",
       "</style>\n",
       "<table border=\"1\" class=\"dataframe\">\n",
       "  <thead>\n",
       "    <tr style=\"text-align: right;\">\n",
       "      <th></th>\n",
       "      <th>instant</th>\n",
       "      <th>dteday</th>\n",
       "      <th>season</th>\n",
       "      <th>yr</th>\n",
       "      <th>mnth</th>\n",
       "      <th>holiday</th>\n",
       "      <th>weekday</th>\n",
       "      <th>workingday</th>\n",
       "      <th>weathersit</th>\n",
       "      <th>temp</th>\n",
       "      <th>atemp</th>\n",
       "      <th>hum</th>\n",
       "      <th>windspeed</th>\n",
       "      <th>casual</th>\n",
       "      <th>registered</th>\n",
       "      <th>cnt</th>\n",
       "    </tr>\n",
       "  </thead>\n",
       "  <tbody>\n",
       "    <tr>\n",
       "      <th>0</th>\n",
       "      <td>1</td>\n",
       "      <td>2011-01-01</td>\n",
       "      <td>1</td>\n",
       "      <td>0</td>\n",
       "      <td>1</td>\n",
       "      <td>0</td>\n",
       "      <td>6</td>\n",
       "      <td>0</td>\n",
       "      <td>2</td>\n",
       "      <td>0.344167</td>\n",
       "      <td>0.363625</td>\n",
       "      <td>0.805833</td>\n",
       "      <td>0.160446</td>\n",
       "      <td>331</td>\n",
       "      <td>654</td>\n",
       "      <td>985</td>\n",
       "    </tr>\n",
       "    <tr>\n",
       "      <th>1</th>\n",
       "      <td>2</td>\n",
       "      <td>2011-01-02</td>\n",
       "      <td>1</td>\n",
       "      <td>0</td>\n",
       "      <td>1</td>\n",
       "      <td>0</td>\n",
       "      <td>0</td>\n",
       "      <td>0</td>\n",
       "      <td>2</td>\n",
       "      <td>0.363478</td>\n",
       "      <td>0.353739</td>\n",
       "      <td>0.696087</td>\n",
       "      <td>0.248539</td>\n",
       "      <td>131</td>\n",
       "      <td>670</td>\n",
       "      <td>801</td>\n",
       "    </tr>\n",
       "    <tr>\n",
       "      <th>2</th>\n",
       "      <td>3</td>\n",
       "      <td>2011-01-03</td>\n",
       "      <td>1</td>\n",
       "      <td>0</td>\n",
       "      <td>1</td>\n",
       "      <td>0</td>\n",
       "      <td>1</td>\n",
       "      <td>1</td>\n",
       "      <td>1</td>\n",
       "      <td>0.196364</td>\n",
       "      <td>0.189405</td>\n",
       "      <td>0.437273</td>\n",
       "      <td>0.248309</td>\n",
       "      <td>120</td>\n",
       "      <td>1229</td>\n",
       "      <td>1349</td>\n",
       "    </tr>\n",
       "    <tr>\n",
       "      <th>3</th>\n",
       "      <td>4</td>\n",
       "      <td>2011-01-04</td>\n",
       "      <td>1</td>\n",
       "      <td>0</td>\n",
       "      <td>1</td>\n",
       "      <td>0</td>\n",
       "      <td>2</td>\n",
       "      <td>1</td>\n",
       "      <td>1</td>\n",
       "      <td>0.200000</td>\n",
       "      <td>0.212122</td>\n",
       "      <td>0.590435</td>\n",
       "      <td>0.160296</td>\n",
       "      <td>108</td>\n",
       "      <td>1454</td>\n",
       "      <td>1562</td>\n",
       "    </tr>\n",
       "    <tr>\n",
       "      <th>4</th>\n",
       "      <td>5</td>\n",
       "      <td>2011-01-05</td>\n",
       "      <td>1</td>\n",
       "      <td>0</td>\n",
       "      <td>1</td>\n",
       "      <td>0</td>\n",
       "      <td>3</td>\n",
       "      <td>1</td>\n",
       "      <td>1</td>\n",
       "      <td>0.226957</td>\n",
       "      <td>0.229270</td>\n",
       "      <td>0.436957</td>\n",
       "      <td>0.186900</td>\n",
       "      <td>82</td>\n",
       "      <td>1518</td>\n",
       "      <td>1600</td>\n",
       "    </tr>\n",
       "  </tbody>\n",
       "</table>\n",
       "</div>"
      ],
      "text/plain": [
       "   instant      dteday  season  yr  mnth  holiday  weekday  workingday  \\\n",
       "0        1  2011-01-01       1   0     1        0        6           0   \n",
       "1        2  2011-01-02       1   0     1        0        0           0   \n",
       "2        3  2011-01-03       1   0     1        0        1           1   \n",
       "3        4  2011-01-04       1   0     1        0        2           1   \n",
       "4        5  2011-01-05       1   0     1        0        3           1   \n",
       "\n",
       "   weathersit      temp     atemp       hum  windspeed  casual  registered  \\\n",
       "0           2  0.344167  0.363625  0.805833   0.160446     331         654   \n",
       "1           2  0.363478  0.353739  0.696087   0.248539     131         670   \n",
       "2           1  0.196364  0.189405  0.437273   0.248309     120        1229   \n",
       "3           1  0.200000  0.212122  0.590435   0.160296     108        1454   \n",
       "4           1  0.226957  0.229270  0.436957   0.186900      82        1518   \n",
       "\n",
       "    cnt  \n",
       "0   985  \n",
       "1   801  \n",
       "2  1349  \n",
       "3  1562  \n",
       "4  1600  "
      ]
     },
     "execution_count": 84,
     "metadata": {},
     "output_type": "execute_result"
    }
   ],
   "source": [
    "df_day=pd.read_csv('day.csv')\n",
    "df_day.head()"
   ]
  },
  {
   "cell_type": "code",
   "execution_count": 85,
   "id": "19783ede",
   "metadata": {},
   "outputs": [
    {
     "data": {
      "text/plain": [
       "(731, 16)"
      ]
     },
     "execution_count": 85,
     "metadata": {},
     "output_type": "execute_result"
    }
   ],
   "source": [
    "df_day.shape"
   ]
  },
  {
   "cell_type": "markdown",
   "id": "3d71e82c",
   "metadata": {},
   "source": [
    "**df_day :**bike sharing counts aggregated on daily basis. Records: 731 days"
   ]
  },
  {
   "cell_type": "code",
   "execution_count": 86,
   "id": "04537f00",
   "metadata": {
    "scrolled": true
   },
   "outputs": [
    {
     "data": {
      "text/html": [
       "<div>\n",
       "<style scoped>\n",
       "    .dataframe tbody tr th:only-of-type {\n",
       "        vertical-align: middle;\n",
       "    }\n",
       "\n",
       "    .dataframe tbody tr th {\n",
       "        vertical-align: top;\n",
       "    }\n",
       "\n",
       "    .dataframe thead th {\n",
       "        text-align: right;\n",
       "    }\n",
       "</style>\n",
       "<table border=\"1\" class=\"dataframe\">\n",
       "  <thead>\n",
       "    <tr style=\"text-align: right;\">\n",
       "      <th></th>\n",
       "      <th>instant</th>\n",
       "      <th>dteday</th>\n",
       "      <th>season</th>\n",
       "      <th>yr</th>\n",
       "      <th>mnth</th>\n",
       "      <th>hr</th>\n",
       "      <th>holiday</th>\n",
       "      <th>weekday</th>\n",
       "      <th>workingday</th>\n",
       "      <th>weathersit</th>\n",
       "      <th>temp</th>\n",
       "      <th>atemp</th>\n",
       "      <th>hum</th>\n",
       "      <th>windspeed</th>\n",
       "      <th>casual</th>\n",
       "      <th>registered</th>\n",
       "      <th>cnt</th>\n",
       "    </tr>\n",
       "  </thead>\n",
       "  <tbody>\n",
       "    <tr>\n",
       "      <th>0</th>\n",
       "      <td>1</td>\n",
       "      <td>2011-01-01</td>\n",
       "      <td>1</td>\n",
       "      <td>0</td>\n",
       "      <td>1</td>\n",
       "      <td>0</td>\n",
       "      <td>0</td>\n",
       "      <td>6</td>\n",
       "      <td>0</td>\n",
       "      <td>1</td>\n",
       "      <td>0.24</td>\n",
       "      <td>0.2879</td>\n",
       "      <td>0.81</td>\n",
       "      <td>0.0</td>\n",
       "      <td>3</td>\n",
       "      <td>13</td>\n",
       "      <td>16</td>\n",
       "    </tr>\n",
       "    <tr>\n",
       "      <th>1</th>\n",
       "      <td>2</td>\n",
       "      <td>2011-01-01</td>\n",
       "      <td>1</td>\n",
       "      <td>0</td>\n",
       "      <td>1</td>\n",
       "      <td>1</td>\n",
       "      <td>0</td>\n",
       "      <td>6</td>\n",
       "      <td>0</td>\n",
       "      <td>1</td>\n",
       "      <td>0.22</td>\n",
       "      <td>0.2727</td>\n",
       "      <td>0.80</td>\n",
       "      <td>0.0</td>\n",
       "      <td>8</td>\n",
       "      <td>32</td>\n",
       "      <td>40</td>\n",
       "    </tr>\n",
       "    <tr>\n",
       "      <th>2</th>\n",
       "      <td>3</td>\n",
       "      <td>2011-01-01</td>\n",
       "      <td>1</td>\n",
       "      <td>0</td>\n",
       "      <td>1</td>\n",
       "      <td>2</td>\n",
       "      <td>0</td>\n",
       "      <td>6</td>\n",
       "      <td>0</td>\n",
       "      <td>1</td>\n",
       "      <td>0.22</td>\n",
       "      <td>0.2727</td>\n",
       "      <td>0.80</td>\n",
       "      <td>0.0</td>\n",
       "      <td>5</td>\n",
       "      <td>27</td>\n",
       "      <td>32</td>\n",
       "    </tr>\n",
       "    <tr>\n",
       "      <th>3</th>\n",
       "      <td>4</td>\n",
       "      <td>2011-01-01</td>\n",
       "      <td>1</td>\n",
       "      <td>0</td>\n",
       "      <td>1</td>\n",
       "      <td>3</td>\n",
       "      <td>0</td>\n",
       "      <td>6</td>\n",
       "      <td>0</td>\n",
       "      <td>1</td>\n",
       "      <td>0.24</td>\n",
       "      <td>0.2879</td>\n",
       "      <td>0.75</td>\n",
       "      <td>0.0</td>\n",
       "      <td>3</td>\n",
       "      <td>10</td>\n",
       "      <td>13</td>\n",
       "    </tr>\n",
       "    <tr>\n",
       "      <th>4</th>\n",
       "      <td>5</td>\n",
       "      <td>2011-01-01</td>\n",
       "      <td>1</td>\n",
       "      <td>0</td>\n",
       "      <td>1</td>\n",
       "      <td>4</td>\n",
       "      <td>0</td>\n",
       "      <td>6</td>\n",
       "      <td>0</td>\n",
       "      <td>1</td>\n",
       "      <td>0.24</td>\n",
       "      <td>0.2879</td>\n",
       "      <td>0.75</td>\n",
       "      <td>0.0</td>\n",
       "      <td>0</td>\n",
       "      <td>1</td>\n",
       "      <td>1</td>\n",
       "    </tr>\n",
       "  </tbody>\n",
       "</table>\n",
       "</div>"
      ],
      "text/plain": [
       "   instant      dteday  season  yr  mnth  hr  holiday  weekday  workingday  \\\n",
       "0        1  2011-01-01       1   0     1   0        0        6           0   \n",
       "1        2  2011-01-01       1   0     1   1        0        6           0   \n",
       "2        3  2011-01-01       1   0     1   2        0        6           0   \n",
       "3        4  2011-01-01       1   0     1   3        0        6           0   \n",
       "4        5  2011-01-01       1   0     1   4        0        6           0   \n",
       "\n",
       "   weathersit  temp   atemp   hum  windspeed  casual  registered  cnt  \n",
       "0           1  0.24  0.2879  0.81        0.0       3          13   16  \n",
       "1           1  0.22  0.2727  0.80        0.0       8          32   40  \n",
       "2           1  0.22  0.2727  0.80        0.0       5          27   32  \n",
       "3           1  0.24  0.2879  0.75        0.0       3          10   13  \n",
       "4           1  0.24  0.2879  0.75        0.0       0           1    1  "
      ]
     },
     "execution_count": 86,
     "metadata": {},
     "output_type": "execute_result"
    }
   ],
   "source": [
    "df_hr=pd.read_csv('hour.csv')\n",
    "df_hr.head()"
   ]
  },
  {
   "cell_type": "code",
   "execution_count": 87,
   "id": "f64dd23f",
   "metadata": {},
   "outputs": [
    {
     "data": {
      "text/plain": [
       "(17379, 17)"
      ]
     },
     "execution_count": 87,
     "metadata": {},
     "output_type": "execute_result"
    }
   ],
   "source": [
    "df_hr.shape"
   ]
  },
  {
   "cell_type": "markdown",
   "id": "b285fb9d",
   "metadata": {},
   "source": [
    "**df_hr :**bike sharing counts aggregated on hourly basis. Records: 17379 hours"
   ]
  },
  {
   "cell_type": "markdown",
   "id": "3b721e3a",
   "metadata": {},
   "source": [
    "## Features :"
   ]
  },
  {
   "cell_type": "markdown",
   "id": "9e03d19c",
   "metadata": {},
   "source": [
    "Both hour.csv and day.csv have the following fields, except hr which is not available in day.csv\n",
    "\n",
    "There are 17 columns in the dataset,out of which **cnt** is our target variable along with **casual** & **registered.**<br>\n",
    "All the features are described in the section below.\n",
    "\n",
    "- **instant :** record index\n",
    "- **dteday :** date\n",
    "- **season :** season <br> \n",
    "  (1:springer, 2:summer, 3:fall, 4:winter)\n",
    "- **yr :** year (0: 2011, 1:2012)\n",
    "- **mnth :** month ( 1 to 12)\n",
    "- **hr :** hour (0 to 23)\n",
    "- **holiday :** weather day is holiday or not (extracted from http://dchr.dc.gov/page/holiday-schedule)\n",
    "- **weekday :** day of the week\n",
    "- **workingday :** if day is neither weekend nor holiday is 1, otherwise is 0.\n",
    "+ **weathersit :** <br> \n",
    "  1: Clear, Few clouds, Partly cloudy, Partly cloudy <br> \n",
    "  2: Mist + Cloudy, Mist + Broken clouds, Mist + Few clouds, Mist <br> \n",
    "  3: Light Snow, Light Rain + Thunderstorm + Scattered clouds, Light Rain + Scattered clouds <br> \n",
    "  4: Heavy Rain + Ice Pallets + Thunderstorm + Mist, Snow + Fog\n",
    "- **temp :** Normalized temperature in Celsius. The values are divided to 41 (max)\n",
    "- **atemp :** Normalized feeling temperature in Celsius. The values are divided to 50 (max)\n",
    "- **hum :** Normalized humidity. The values are divided to 100 (max)\n",
    "- **windspeed :** Normalized wind speed. The values are divided to 67 (max)\n",
    "- **casual :** count of casual users (people who hadn't previously signed up with the bike sharing program)\n",
    "- **registered :** count of registered users (people who had already signed up)\n",
    "- **cnt :** count of total rental bikes including both casual and registered"
   ]
  },
  {
   "cell_type": "code",
   "execution_count": 88,
   "id": "96d04ad3",
   "metadata": {},
   "outputs": [
    {
     "name": "stdout",
     "output_type": "stream",
     "text": [
      "<class 'pandas.core.frame.DataFrame'>\n",
      "RangeIndex: 17379 entries, 0 to 17378\n",
      "Data columns (total 17 columns):\n",
      " #   Column      Non-Null Count  Dtype  \n",
      "---  ------      --------------  -----  \n",
      " 0   instant     17379 non-null  int64  \n",
      " 1   dteday      17379 non-null  object \n",
      " 2   season      17379 non-null  int64  \n",
      " 3   yr          17379 non-null  int64  \n",
      " 4   mnth        17379 non-null  int64  \n",
      " 5   hr          17379 non-null  int64  \n",
      " 6   holiday     17379 non-null  int64  \n",
      " 7   weekday     17379 non-null  int64  \n",
      " 8   workingday  17379 non-null  int64  \n",
      " 9   weathersit  17379 non-null  int64  \n",
      " 10  temp        17379 non-null  float64\n",
      " 11  atemp       17379 non-null  float64\n",
      " 12  hum         17379 non-null  float64\n",
      " 13  windspeed   17379 non-null  float64\n",
      " 14  casual      17379 non-null  int64  \n",
      " 15  registered  17379 non-null  int64  \n",
      " 16  cnt         17379 non-null  int64  \n",
      "dtypes: float64(4), int64(12), object(1)\n",
      "memory usage: 2.3+ MB\n"
     ]
    }
   ],
   "source": [
    "df_hr.info()"
   ]
  },
  {
   "cell_type": "code",
   "execution_count": 89,
   "id": "41e5e89d",
   "metadata": {},
   "outputs": [
    {
     "data": {
      "text/plain": [
       "False"
      ]
     },
     "execution_count": 89,
     "metadata": {},
     "output_type": "execute_result"
    }
   ],
   "source": [
    "df_hr.duplicated().any()"
   ]
  },
  {
   "cell_type": "markdown",
   "id": "0762a667",
   "metadata": {},
   "source": [
    "**The dataset consists of 17379 records. \n",
    "We neither have any missing values nor any duplicates**"
   ]
  },
  {
   "cell_type": "code",
   "execution_count": 90,
   "id": "445cdddc",
   "metadata": {
    "scrolled": false
   },
   "outputs": [
    {
     "data": {
      "text/html": [
       "<div>\n",
       "<style scoped>\n",
       "    .dataframe tbody tr th:only-of-type {\n",
       "        vertical-align: middle;\n",
       "    }\n",
       "\n",
       "    .dataframe tbody tr th {\n",
       "        vertical-align: top;\n",
       "    }\n",
       "\n",
       "    .dataframe thead th {\n",
       "        text-align: right;\n",
       "    }\n",
       "</style>\n",
       "<table border=\"1\" class=\"dataframe\">\n",
       "  <thead>\n",
       "    <tr style=\"text-align: right;\">\n",
       "      <th></th>\n",
       "      <th>count</th>\n",
       "      <th>mean</th>\n",
       "      <th>std</th>\n",
       "      <th>min</th>\n",
       "      <th>25%</th>\n",
       "      <th>50%</th>\n",
       "      <th>75%</th>\n",
       "      <th>max</th>\n",
       "    </tr>\n",
       "  </thead>\n",
       "  <tbody>\n",
       "    <tr>\n",
       "      <th>instant</th>\n",
       "      <td>17379.0</td>\n",
       "      <td>8690.000000</td>\n",
       "      <td>5017.029500</td>\n",
       "      <td>1.00</td>\n",
       "      <td>4345.5000</td>\n",
       "      <td>8690.0000</td>\n",
       "      <td>13034.5000</td>\n",
       "      <td>17379.0000</td>\n",
       "    </tr>\n",
       "    <tr>\n",
       "      <th>season</th>\n",
       "      <td>17379.0</td>\n",
       "      <td>2.501640</td>\n",
       "      <td>1.106918</td>\n",
       "      <td>1.00</td>\n",
       "      <td>2.0000</td>\n",
       "      <td>3.0000</td>\n",
       "      <td>3.0000</td>\n",
       "      <td>4.0000</td>\n",
       "    </tr>\n",
       "    <tr>\n",
       "      <th>yr</th>\n",
       "      <td>17379.0</td>\n",
       "      <td>0.502561</td>\n",
       "      <td>0.500008</td>\n",
       "      <td>0.00</td>\n",
       "      <td>0.0000</td>\n",
       "      <td>1.0000</td>\n",
       "      <td>1.0000</td>\n",
       "      <td>1.0000</td>\n",
       "    </tr>\n",
       "    <tr>\n",
       "      <th>mnth</th>\n",
       "      <td>17379.0</td>\n",
       "      <td>6.537775</td>\n",
       "      <td>3.438776</td>\n",
       "      <td>1.00</td>\n",
       "      <td>4.0000</td>\n",
       "      <td>7.0000</td>\n",
       "      <td>10.0000</td>\n",
       "      <td>12.0000</td>\n",
       "    </tr>\n",
       "    <tr>\n",
       "      <th>hr</th>\n",
       "      <td>17379.0</td>\n",
       "      <td>11.546752</td>\n",
       "      <td>6.914405</td>\n",
       "      <td>0.00</td>\n",
       "      <td>6.0000</td>\n",
       "      <td>12.0000</td>\n",
       "      <td>18.0000</td>\n",
       "      <td>23.0000</td>\n",
       "    </tr>\n",
       "    <tr>\n",
       "      <th>holiday</th>\n",
       "      <td>17379.0</td>\n",
       "      <td>0.028770</td>\n",
       "      <td>0.167165</td>\n",
       "      <td>0.00</td>\n",
       "      <td>0.0000</td>\n",
       "      <td>0.0000</td>\n",
       "      <td>0.0000</td>\n",
       "      <td>1.0000</td>\n",
       "    </tr>\n",
       "    <tr>\n",
       "      <th>weekday</th>\n",
       "      <td>17379.0</td>\n",
       "      <td>3.003683</td>\n",
       "      <td>2.005771</td>\n",
       "      <td>0.00</td>\n",
       "      <td>1.0000</td>\n",
       "      <td>3.0000</td>\n",
       "      <td>5.0000</td>\n",
       "      <td>6.0000</td>\n",
       "    </tr>\n",
       "    <tr>\n",
       "      <th>workingday</th>\n",
       "      <td>17379.0</td>\n",
       "      <td>0.682721</td>\n",
       "      <td>0.465431</td>\n",
       "      <td>0.00</td>\n",
       "      <td>0.0000</td>\n",
       "      <td>1.0000</td>\n",
       "      <td>1.0000</td>\n",
       "      <td>1.0000</td>\n",
       "    </tr>\n",
       "    <tr>\n",
       "      <th>weathersit</th>\n",
       "      <td>17379.0</td>\n",
       "      <td>1.425283</td>\n",
       "      <td>0.639357</td>\n",
       "      <td>1.00</td>\n",
       "      <td>1.0000</td>\n",
       "      <td>1.0000</td>\n",
       "      <td>2.0000</td>\n",
       "      <td>4.0000</td>\n",
       "    </tr>\n",
       "    <tr>\n",
       "      <th>temp</th>\n",
       "      <td>17379.0</td>\n",
       "      <td>0.496987</td>\n",
       "      <td>0.192556</td>\n",
       "      <td>0.02</td>\n",
       "      <td>0.3400</td>\n",
       "      <td>0.5000</td>\n",
       "      <td>0.6600</td>\n",
       "      <td>1.0000</td>\n",
       "    </tr>\n",
       "    <tr>\n",
       "      <th>atemp</th>\n",
       "      <td>17379.0</td>\n",
       "      <td>0.475775</td>\n",
       "      <td>0.171850</td>\n",
       "      <td>0.00</td>\n",
       "      <td>0.3333</td>\n",
       "      <td>0.4848</td>\n",
       "      <td>0.6212</td>\n",
       "      <td>1.0000</td>\n",
       "    </tr>\n",
       "    <tr>\n",
       "      <th>hum</th>\n",
       "      <td>17379.0</td>\n",
       "      <td>0.627229</td>\n",
       "      <td>0.192930</td>\n",
       "      <td>0.00</td>\n",
       "      <td>0.4800</td>\n",
       "      <td>0.6300</td>\n",
       "      <td>0.7800</td>\n",
       "      <td>1.0000</td>\n",
       "    </tr>\n",
       "    <tr>\n",
       "      <th>windspeed</th>\n",
       "      <td>17379.0</td>\n",
       "      <td>0.190098</td>\n",
       "      <td>0.122340</td>\n",
       "      <td>0.00</td>\n",
       "      <td>0.1045</td>\n",
       "      <td>0.1940</td>\n",
       "      <td>0.2537</td>\n",
       "      <td>0.8507</td>\n",
       "    </tr>\n",
       "    <tr>\n",
       "      <th>casual</th>\n",
       "      <td>17379.0</td>\n",
       "      <td>35.676218</td>\n",
       "      <td>49.305030</td>\n",
       "      <td>0.00</td>\n",
       "      <td>4.0000</td>\n",
       "      <td>17.0000</td>\n",
       "      <td>48.0000</td>\n",
       "      <td>367.0000</td>\n",
       "    </tr>\n",
       "    <tr>\n",
       "      <th>registered</th>\n",
       "      <td>17379.0</td>\n",
       "      <td>153.786869</td>\n",
       "      <td>151.357286</td>\n",
       "      <td>0.00</td>\n",
       "      <td>34.0000</td>\n",
       "      <td>115.0000</td>\n",
       "      <td>220.0000</td>\n",
       "      <td>886.0000</td>\n",
       "    </tr>\n",
       "    <tr>\n",
       "      <th>cnt</th>\n",
       "      <td>17379.0</td>\n",
       "      <td>189.463088</td>\n",
       "      <td>181.387599</td>\n",
       "      <td>1.00</td>\n",
       "      <td>40.0000</td>\n",
       "      <td>142.0000</td>\n",
       "      <td>281.0000</td>\n",
       "      <td>977.0000</td>\n",
       "    </tr>\n",
       "  </tbody>\n",
       "</table>\n",
       "</div>"
      ],
      "text/plain": [
       "              count         mean          std   min        25%        50%  \\\n",
       "instant     17379.0  8690.000000  5017.029500  1.00  4345.5000  8690.0000   \n",
       "season      17379.0     2.501640     1.106918  1.00     2.0000     3.0000   \n",
       "yr          17379.0     0.502561     0.500008  0.00     0.0000     1.0000   \n",
       "mnth        17379.0     6.537775     3.438776  1.00     4.0000     7.0000   \n",
       "hr          17379.0    11.546752     6.914405  0.00     6.0000    12.0000   \n",
       "holiday     17379.0     0.028770     0.167165  0.00     0.0000     0.0000   \n",
       "weekday     17379.0     3.003683     2.005771  0.00     1.0000     3.0000   \n",
       "workingday  17379.0     0.682721     0.465431  0.00     0.0000     1.0000   \n",
       "weathersit  17379.0     1.425283     0.639357  1.00     1.0000     1.0000   \n",
       "temp        17379.0     0.496987     0.192556  0.02     0.3400     0.5000   \n",
       "atemp       17379.0     0.475775     0.171850  0.00     0.3333     0.4848   \n",
       "hum         17379.0     0.627229     0.192930  0.00     0.4800     0.6300   \n",
       "windspeed   17379.0     0.190098     0.122340  0.00     0.1045     0.1940   \n",
       "casual      17379.0    35.676218    49.305030  0.00     4.0000    17.0000   \n",
       "registered  17379.0   153.786869   151.357286  0.00    34.0000   115.0000   \n",
       "cnt         17379.0   189.463088   181.387599  1.00    40.0000   142.0000   \n",
       "\n",
       "                   75%         max  \n",
       "instant     13034.5000  17379.0000  \n",
       "season          3.0000      4.0000  \n",
       "yr              1.0000      1.0000  \n",
       "mnth           10.0000     12.0000  \n",
       "hr             18.0000     23.0000  \n",
       "holiday         0.0000      1.0000  \n",
       "weekday         5.0000      6.0000  \n",
       "workingday      1.0000      1.0000  \n",
       "weathersit      2.0000      4.0000  \n",
       "temp            0.6600      1.0000  \n",
       "atemp           0.6212      1.0000  \n",
       "hum             0.7800      1.0000  \n",
       "windspeed       0.2537      0.8507  \n",
       "casual         48.0000    367.0000  \n",
       "registered    220.0000    886.0000  \n",
       "cnt           281.0000    977.0000  "
      ]
     },
     "execution_count": 90,
     "metadata": {},
     "output_type": "execute_result"
    }
   ],
   "source": [
    "df_hr.describe().T"
   ]
  },
  {
   "cell_type": "code",
   "execution_count": 91,
   "id": "89024036",
   "metadata": {},
   "outputs": [],
   "source": [
    "df_hr.drop(['instant','dteday','holiday'],axis=1,inplace=True)\n",
    "df_day.drop(['instant','dteday','holiday'],axis=1,inplace=True)"
   ]
  },
  {
   "cell_type": "code",
   "execution_count": 92,
   "id": "a7645736",
   "metadata": {
    "scrolled": true
   },
   "outputs": [
    {
     "data": {
      "text/html": [
       "<div>\n",
       "<style scoped>\n",
       "    .dataframe tbody tr th:only-of-type {\n",
       "        vertical-align: middle;\n",
       "    }\n",
       "\n",
       "    .dataframe tbody tr th {\n",
       "        vertical-align: top;\n",
       "    }\n",
       "\n",
       "    .dataframe thead th {\n",
       "        text-align: right;\n",
       "    }\n",
       "</style>\n",
       "<table border=\"1\" class=\"dataframe\">\n",
       "  <thead>\n",
       "    <tr style=\"text-align: right;\">\n",
       "      <th></th>\n",
       "      <th>season</th>\n",
       "      <th>yr</th>\n",
       "      <th>mnth</th>\n",
       "      <th>hr</th>\n",
       "      <th>weekday</th>\n",
       "      <th>workingday</th>\n",
       "      <th>weathersit</th>\n",
       "      <th>temp</th>\n",
       "      <th>atemp</th>\n",
       "      <th>hum</th>\n",
       "      <th>windspeed</th>\n",
       "      <th>casual</th>\n",
       "      <th>registered</th>\n",
       "      <th>cnt</th>\n",
       "    </tr>\n",
       "  </thead>\n",
       "  <tbody>\n",
       "    <tr>\n",
       "      <th>0</th>\n",
       "      <td>1</td>\n",
       "      <td>0</td>\n",
       "      <td>1</td>\n",
       "      <td>0</td>\n",
       "      <td>6</td>\n",
       "      <td>0</td>\n",
       "      <td>1</td>\n",
       "      <td>0.24</td>\n",
       "      <td>0.2879</td>\n",
       "      <td>0.81</td>\n",
       "      <td>0.0</td>\n",
       "      <td>3</td>\n",
       "      <td>13</td>\n",
       "      <td>16</td>\n",
       "    </tr>\n",
       "    <tr>\n",
       "      <th>1</th>\n",
       "      <td>1</td>\n",
       "      <td>0</td>\n",
       "      <td>1</td>\n",
       "      <td>1</td>\n",
       "      <td>6</td>\n",
       "      <td>0</td>\n",
       "      <td>1</td>\n",
       "      <td>0.22</td>\n",
       "      <td>0.2727</td>\n",
       "      <td>0.80</td>\n",
       "      <td>0.0</td>\n",
       "      <td>8</td>\n",
       "      <td>32</td>\n",
       "      <td>40</td>\n",
       "    </tr>\n",
       "    <tr>\n",
       "      <th>2</th>\n",
       "      <td>1</td>\n",
       "      <td>0</td>\n",
       "      <td>1</td>\n",
       "      <td>2</td>\n",
       "      <td>6</td>\n",
       "      <td>0</td>\n",
       "      <td>1</td>\n",
       "      <td>0.22</td>\n",
       "      <td>0.2727</td>\n",
       "      <td>0.80</td>\n",
       "      <td>0.0</td>\n",
       "      <td>5</td>\n",
       "      <td>27</td>\n",
       "      <td>32</td>\n",
       "    </tr>\n",
       "    <tr>\n",
       "      <th>3</th>\n",
       "      <td>1</td>\n",
       "      <td>0</td>\n",
       "      <td>1</td>\n",
       "      <td>3</td>\n",
       "      <td>6</td>\n",
       "      <td>0</td>\n",
       "      <td>1</td>\n",
       "      <td>0.24</td>\n",
       "      <td>0.2879</td>\n",
       "      <td>0.75</td>\n",
       "      <td>0.0</td>\n",
       "      <td>3</td>\n",
       "      <td>10</td>\n",
       "      <td>13</td>\n",
       "    </tr>\n",
       "    <tr>\n",
       "      <th>4</th>\n",
       "      <td>1</td>\n",
       "      <td>0</td>\n",
       "      <td>1</td>\n",
       "      <td>4</td>\n",
       "      <td>6</td>\n",
       "      <td>0</td>\n",
       "      <td>1</td>\n",
       "      <td>0.24</td>\n",
       "      <td>0.2879</td>\n",
       "      <td>0.75</td>\n",
       "      <td>0.0</td>\n",
       "      <td>0</td>\n",
       "      <td>1</td>\n",
       "      <td>1</td>\n",
       "    </tr>\n",
       "  </tbody>\n",
       "</table>\n",
       "</div>"
      ],
      "text/plain": [
       "   season  yr  mnth  hr  weekday  workingday  weathersit  temp   atemp   hum  \\\n",
       "0       1   0     1   0        6           0           1  0.24  0.2879  0.81   \n",
       "1       1   0     1   1        6           0           1  0.22  0.2727  0.80   \n",
       "2       1   0     1   2        6           0           1  0.22  0.2727  0.80   \n",
       "3       1   0     1   3        6           0           1  0.24  0.2879  0.75   \n",
       "4       1   0     1   4        6           0           1  0.24  0.2879  0.75   \n",
       "\n",
       "   windspeed  casual  registered  cnt  \n",
       "0        0.0       3          13   16  \n",
       "1        0.0       8          32   40  \n",
       "2        0.0       5          27   32  \n",
       "3        0.0       3          10   13  \n",
       "4        0.0       0           1    1  "
      ]
     },
     "execution_count": 92,
     "metadata": {},
     "output_type": "execute_result"
    }
   ],
   "source": [
    "df_hr.head()"
   ]
  },
  {
   "cell_type": "code",
   "execution_count": 93,
   "id": "4fad1594",
   "metadata": {},
   "outputs": [],
   "source": [
    "# copy the dataframe so that we can modify the same temporarily for visualization\n",
    "df_hrv=df_hr.copy()    \n",
    "df_dayv=df_day.copy() "
   ]
  },
  {
   "cell_type": "code",
   "execution_count": 94,
   "id": "c51ca131",
   "metadata": {},
   "outputs": [
    {
     "data": {
      "text/html": [
       "<div>\n",
       "<style scoped>\n",
       "    .dataframe tbody tr th:only-of-type {\n",
       "        vertical-align: middle;\n",
       "    }\n",
       "\n",
       "    .dataframe tbody tr th {\n",
       "        vertical-align: top;\n",
       "    }\n",
       "\n",
       "    .dataframe thead th {\n",
       "        text-align: right;\n",
       "    }\n",
       "</style>\n",
       "<table border=\"1\" class=\"dataframe\">\n",
       "  <thead>\n",
       "    <tr style=\"text-align: right;\">\n",
       "      <th></th>\n",
       "      <th>season</th>\n",
       "      <th>yr</th>\n",
       "      <th>mnth</th>\n",
       "      <th>hr</th>\n",
       "      <th>weekday</th>\n",
       "      <th>workingday</th>\n",
       "      <th>weathersit</th>\n",
       "      <th>temp</th>\n",
       "      <th>atemp</th>\n",
       "      <th>hum</th>\n",
       "      <th>windspeed</th>\n",
       "      <th>casual</th>\n",
       "      <th>registered</th>\n",
       "      <th>cnt</th>\n",
       "    </tr>\n",
       "  </thead>\n",
       "  <tbody>\n",
       "    <tr>\n",
       "      <th>0</th>\n",
       "      <td>1</td>\n",
       "      <td>0</td>\n",
       "      <td>1</td>\n",
       "      <td>0</td>\n",
       "      <td>6</td>\n",
       "      <td>0</td>\n",
       "      <td>1</td>\n",
       "      <td>0.24</td>\n",
       "      <td>0.2879</td>\n",
       "      <td>0.81</td>\n",
       "      <td>0.0000</td>\n",
       "      <td>3</td>\n",
       "      <td>13</td>\n",
       "      <td>16</td>\n",
       "    </tr>\n",
       "    <tr>\n",
       "      <th>1</th>\n",
       "      <td>1</td>\n",
       "      <td>0</td>\n",
       "      <td>1</td>\n",
       "      <td>1</td>\n",
       "      <td>6</td>\n",
       "      <td>0</td>\n",
       "      <td>1</td>\n",
       "      <td>0.22</td>\n",
       "      <td>0.2727</td>\n",
       "      <td>0.80</td>\n",
       "      <td>0.0000</td>\n",
       "      <td>8</td>\n",
       "      <td>32</td>\n",
       "      <td>40</td>\n",
       "    </tr>\n",
       "    <tr>\n",
       "      <th>2</th>\n",
       "      <td>1</td>\n",
       "      <td>0</td>\n",
       "      <td>1</td>\n",
       "      <td>2</td>\n",
       "      <td>6</td>\n",
       "      <td>0</td>\n",
       "      <td>1</td>\n",
       "      <td>0.22</td>\n",
       "      <td>0.2727</td>\n",
       "      <td>0.80</td>\n",
       "      <td>0.0000</td>\n",
       "      <td>5</td>\n",
       "      <td>27</td>\n",
       "      <td>32</td>\n",
       "    </tr>\n",
       "    <tr>\n",
       "      <th>3</th>\n",
       "      <td>1</td>\n",
       "      <td>0</td>\n",
       "      <td>1</td>\n",
       "      <td>3</td>\n",
       "      <td>6</td>\n",
       "      <td>0</td>\n",
       "      <td>1</td>\n",
       "      <td>0.24</td>\n",
       "      <td>0.2879</td>\n",
       "      <td>0.75</td>\n",
       "      <td>0.0000</td>\n",
       "      <td>3</td>\n",
       "      <td>10</td>\n",
       "      <td>13</td>\n",
       "    </tr>\n",
       "    <tr>\n",
       "      <th>4</th>\n",
       "      <td>1</td>\n",
       "      <td>0</td>\n",
       "      <td>1</td>\n",
       "      <td>4</td>\n",
       "      <td>6</td>\n",
       "      <td>0</td>\n",
       "      <td>1</td>\n",
       "      <td>0.24</td>\n",
       "      <td>0.2879</td>\n",
       "      <td>0.75</td>\n",
       "      <td>0.0000</td>\n",
       "      <td>0</td>\n",
       "      <td>1</td>\n",
       "      <td>1</td>\n",
       "    </tr>\n",
       "    <tr>\n",
       "      <th>...</th>\n",
       "      <td>...</td>\n",
       "      <td>...</td>\n",
       "      <td>...</td>\n",
       "      <td>...</td>\n",
       "      <td>...</td>\n",
       "      <td>...</td>\n",
       "      <td>...</td>\n",
       "      <td>...</td>\n",
       "      <td>...</td>\n",
       "      <td>...</td>\n",
       "      <td>...</td>\n",
       "      <td>...</td>\n",
       "      <td>...</td>\n",
       "      <td>...</td>\n",
       "    </tr>\n",
       "    <tr>\n",
       "      <th>17374</th>\n",
       "      <td>1</td>\n",
       "      <td>1</td>\n",
       "      <td>12</td>\n",
       "      <td>19</td>\n",
       "      <td>1</td>\n",
       "      <td>1</td>\n",
       "      <td>2</td>\n",
       "      <td>0.26</td>\n",
       "      <td>0.2576</td>\n",
       "      <td>0.60</td>\n",
       "      <td>0.1642</td>\n",
       "      <td>11</td>\n",
       "      <td>108</td>\n",
       "      <td>119</td>\n",
       "    </tr>\n",
       "    <tr>\n",
       "      <th>17375</th>\n",
       "      <td>1</td>\n",
       "      <td>1</td>\n",
       "      <td>12</td>\n",
       "      <td>20</td>\n",
       "      <td>1</td>\n",
       "      <td>1</td>\n",
       "      <td>2</td>\n",
       "      <td>0.26</td>\n",
       "      <td>0.2576</td>\n",
       "      <td>0.60</td>\n",
       "      <td>0.1642</td>\n",
       "      <td>8</td>\n",
       "      <td>81</td>\n",
       "      <td>89</td>\n",
       "    </tr>\n",
       "    <tr>\n",
       "      <th>17376</th>\n",
       "      <td>1</td>\n",
       "      <td>1</td>\n",
       "      <td>12</td>\n",
       "      <td>21</td>\n",
       "      <td>1</td>\n",
       "      <td>1</td>\n",
       "      <td>1</td>\n",
       "      <td>0.26</td>\n",
       "      <td>0.2576</td>\n",
       "      <td>0.60</td>\n",
       "      <td>0.1642</td>\n",
       "      <td>7</td>\n",
       "      <td>83</td>\n",
       "      <td>90</td>\n",
       "    </tr>\n",
       "    <tr>\n",
       "      <th>17377</th>\n",
       "      <td>1</td>\n",
       "      <td>1</td>\n",
       "      <td>12</td>\n",
       "      <td>22</td>\n",
       "      <td>1</td>\n",
       "      <td>1</td>\n",
       "      <td>1</td>\n",
       "      <td>0.26</td>\n",
       "      <td>0.2727</td>\n",
       "      <td>0.56</td>\n",
       "      <td>0.1343</td>\n",
       "      <td>13</td>\n",
       "      <td>48</td>\n",
       "      <td>61</td>\n",
       "    </tr>\n",
       "    <tr>\n",
       "      <th>17378</th>\n",
       "      <td>1</td>\n",
       "      <td>1</td>\n",
       "      <td>12</td>\n",
       "      <td>23</td>\n",
       "      <td>1</td>\n",
       "      <td>1</td>\n",
       "      <td>1</td>\n",
       "      <td>0.26</td>\n",
       "      <td>0.2727</td>\n",
       "      <td>0.65</td>\n",
       "      <td>0.1343</td>\n",
       "      <td>12</td>\n",
       "      <td>37</td>\n",
       "      <td>49</td>\n",
       "    </tr>\n",
       "  </tbody>\n",
       "</table>\n",
       "<p>17379 rows × 14 columns</p>\n",
       "</div>"
      ],
      "text/plain": [
       "       season  yr  mnth  hr  weekday  workingday  weathersit  temp   atemp  \\\n",
       "0           1   0     1   0        6           0           1  0.24  0.2879   \n",
       "1           1   0     1   1        6           0           1  0.22  0.2727   \n",
       "2           1   0     1   2        6           0           1  0.22  0.2727   \n",
       "3           1   0     1   3        6           0           1  0.24  0.2879   \n",
       "4           1   0     1   4        6           0           1  0.24  0.2879   \n",
       "...       ...  ..   ...  ..      ...         ...         ...   ...     ...   \n",
       "17374       1   1    12  19        1           1           2  0.26  0.2576   \n",
       "17375       1   1    12  20        1           1           2  0.26  0.2576   \n",
       "17376       1   1    12  21        1           1           1  0.26  0.2576   \n",
       "17377       1   1    12  22        1           1           1  0.26  0.2727   \n",
       "17378       1   1    12  23        1           1           1  0.26  0.2727   \n",
       "\n",
       "        hum  windspeed  casual  registered  cnt  \n",
       "0      0.81     0.0000       3          13   16  \n",
       "1      0.80     0.0000       8          32   40  \n",
       "2      0.80     0.0000       5          27   32  \n",
       "3      0.75     0.0000       3          10   13  \n",
       "4      0.75     0.0000       0           1    1  \n",
       "...     ...        ...     ...         ...  ...  \n",
       "17374  0.60     0.1642      11         108  119  \n",
       "17375  0.60     0.1642       8          81   89  \n",
       "17376  0.60     0.1642       7          83   90  \n",
       "17377  0.56     0.1343      13          48   61  \n",
       "17378  0.65     0.1343      12          37   49  \n",
       "\n",
       "[17379 rows x 14 columns]"
      ]
     },
     "execution_count": 94,
     "metadata": {},
     "output_type": "execute_result"
    }
   ],
   "source": [
    "df_hrv"
   ]
  },
  {
   "cell_type": "markdown",
   "id": "99b8bbb9",
   "metadata": {},
   "source": [
    "## Univariate & Bi-variate Analysis :"
   ]
  },
  {
   "cell_type": "markdown",
   "id": "76ac3165",
   "metadata": {},
   "source": [
    "### Categorical Variables"
   ]
  },
  {
   "cell_type": "markdown",
   "id": "84d32d31",
   "metadata": {},
   "source": [
    "Let's first encode the categorical variables for visualization"
   ]
  },
  {
   "cell_type": "code",
   "execution_count": 95,
   "id": "fd9aa401",
   "metadata": {},
   "outputs": [],
   "source": [
    "df_hrv['season']=df_hrv['season'].map({1:'spring',2:'summer',3:'fall',4:'winter'})\n",
    "df_hrv['weekday']=df_hrv['weekday'].map({0:'Mon',1:'Tue',2:'Wed',3:'Thu',4:'Fri',5:'Sat',6:'Sun'})\n",
    "df_hrv['workingday']=df_hrv['workingday'].map({0:'Holiday',1:'W_day'})\n",
    "df_hrv['weathersit']=df_hrv['weathersit'].map({1:'Clear',2:'Mist',3:'Light Snow',4:'Heavy Rain'})\n",
    "df_hrv['mnth']=df_hrv['mnth'].map({1:'Jan',2:'Feb',3:'Mar',4:'Apr',5:'May',6:'June',7:'July',8:'Aug',9:'Sep',10:'Oct',11:'Nov',12:'Dec'})"
   ]
  },
  {
   "cell_type": "code",
   "execution_count": 96,
   "id": "5ecbc0ec",
   "metadata": {},
   "outputs": [
    {
     "data": {
      "text/html": [
       "<div>\n",
       "<style scoped>\n",
       "    .dataframe tbody tr th:only-of-type {\n",
       "        vertical-align: middle;\n",
       "    }\n",
       "\n",
       "    .dataframe tbody tr th {\n",
       "        vertical-align: top;\n",
       "    }\n",
       "\n",
       "    .dataframe thead th {\n",
       "        text-align: right;\n",
       "    }\n",
       "</style>\n",
       "<table border=\"1\" class=\"dataframe\">\n",
       "  <thead>\n",
       "    <tr style=\"text-align: right;\">\n",
       "      <th></th>\n",
       "      <th>season</th>\n",
       "      <th>yr</th>\n",
       "      <th>mnth</th>\n",
       "      <th>hr</th>\n",
       "      <th>weekday</th>\n",
       "      <th>workingday</th>\n",
       "      <th>weathersit</th>\n",
       "      <th>temp</th>\n",
       "      <th>atemp</th>\n",
       "      <th>hum</th>\n",
       "      <th>windspeed</th>\n",
       "      <th>casual</th>\n",
       "      <th>registered</th>\n",
       "      <th>cnt</th>\n",
       "    </tr>\n",
       "  </thead>\n",
       "  <tbody>\n",
       "    <tr>\n",
       "      <th>0</th>\n",
       "      <td>spring</td>\n",
       "      <td>0</td>\n",
       "      <td>Jan</td>\n",
       "      <td>0</td>\n",
       "      <td>Sun</td>\n",
       "      <td>Holiday</td>\n",
       "      <td>Clear</td>\n",
       "      <td>0.24</td>\n",
       "      <td>0.2879</td>\n",
       "      <td>0.81</td>\n",
       "      <td>0.0000</td>\n",
       "      <td>3</td>\n",
       "      <td>13</td>\n",
       "      <td>16</td>\n",
       "    </tr>\n",
       "    <tr>\n",
       "      <th>1</th>\n",
       "      <td>spring</td>\n",
       "      <td>0</td>\n",
       "      <td>Jan</td>\n",
       "      <td>1</td>\n",
       "      <td>Sun</td>\n",
       "      <td>Holiday</td>\n",
       "      <td>Clear</td>\n",
       "      <td>0.22</td>\n",
       "      <td>0.2727</td>\n",
       "      <td>0.80</td>\n",
       "      <td>0.0000</td>\n",
       "      <td>8</td>\n",
       "      <td>32</td>\n",
       "      <td>40</td>\n",
       "    </tr>\n",
       "    <tr>\n",
       "      <th>2</th>\n",
       "      <td>spring</td>\n",
       "      <td>0</td>\n",
       "      <td>Jan</td>\n",
       "      <td>2</td>\n",
       "      <td>Sun</td>\n",
       "      <td>Holiday</td>\n",
       "      <td>Clear</td>\n",
       "      <td>0.22</td>\n",
       "      <td>0.2727</td>\n",
       "      <td>0.80</td>\n",
       "      <td>0.0000</td>\n",
       "      <td>5</td>\n",
       "      <td>27</td>\n",
       "      <td>32</td>\n",
       "    </tr>\n",
       "    <tr>\n",
       "      <th>3</th>\n",
       "      <td>spring</td>\n",
       "      <td>0</td>\n",
       "      <td>Jan</td>\n",
       "      <td>3</td>\n",
       "      <td>Sun</td>\n",
       "      <td>Holiday</td>\n",
       "      <td>Clear</td>\n",
       "      <td>0.24</td>\n",
       "      <td>0.2879</td>\n",
       "      <td>0.75</td>\n",
       "      <td>0.0000</td>\n",
       "      <td>3</td>\n",
       "      <td>10</td>\n",
       "      <td>13</td>\n",
       "    </tr>\n",
       "    <tr>\n",
       "      <th>4</th>\n",
       "      <td>spring</td>\n",
       "      <td>0</td>\n",
       "      <td>Jan</td>\n",
       "      <td>4</td>\n",
       "      <td>Sun</td>\n",
       "      <td>Holiday</td>\n",
       "      <td>Clear</td>\n",
       "      <td>0.24</td>\n",
       "      <td>0.2879</td>\n",
       "      <td>0.75</td>\n",
       "      <td>0.0000</td>\n",
       "      <td>0</td>\n",
       "      <td>1</td>\n",
       "      <td>1</td>\n",
       "    </tr>\n",
       "    <tr>\n",
       "      <th>...</th>\n",
       "      <td>...</td>\n",
       "      <td>...</td>\n",
       "      <td>...</td>\n",
       "      <td>...</td>\n",
       "      <td>...</td>\n",
       "      <td>...</td>\n",
       "      <td>...</td>\n",
       "      <td>...</td>\n",
       "      <td>...</td>\n",
       "      <td>...</td>\n",
       "      <td>...</td>\n",
       "      <td>...</td>\n",
       "      <td>...</td>\n",
       "      <td>...</td>\n",
       "    </tr>\n",
       "    <tr>\n",
       "      <th>17374</th>\n",
       "      <td>spring</td>\n",
       "      <td>1</td>\n",
       "      <td>Dec</td>\n",
       "      <td>19</td>\n",
       "      <td>Tue</td>\n",
       "      <td>W_day</td>\n",
       "      <td>Mist</td>\n",
       "      <td>0.26</td>\n",
       "      <td>0.2576</td>\n",
       "      <td>0.60</td>\n",
       "      <td>0.1642</td>\n",
       "      <td>11</td>\n",
       "      <td>108</td>\n",
       "      <td>119</td>\n",
       "    </tr>\n",
       "    <tr>\n",
       "      <th>17375</th>\n",
       "      <td>spring</td>\n",
       "      <td>1</td>\n",
       "      <td>Dec</td>\n",
       "      <td>20</td>\n",
       "      <td>Tue</td>\n",
       "      <td>W_day</td>\n",
       "      <td>Mist</td>\n",
       "      <td>0.26</td>\n",
       "      <td>0.2576</td>\n",
       "      <td>0.60</td>\n",
       "      <td>0.1642</td>\n",
       "      <td>8</td>\n",
       "      <td>81</td>\n",
       "      <td>89</td>\n",
       "    </tr>\n",
       "    <tr>\n",
       "      <th>17376</th>\n",
       "      <td>spring</td>\n",
       "      <td>1</td>\n",
       "      <td>Dec</td>\n",
       "      <td>21</td>\n",
       "      <td>Tue</td>\n",
       "      <td>W_day</td>\n",
       "      <td>Clear</td>\n",
       "      <td>0.26</td>\n",
       "      <td>0.2576</td>\n",
       "      <td>0.60</td>\n",
       "      <td>0.1642</td>\n",
       "      <td>7</td>\n",
       "      <td>83</td>\n",
       "      <td>90</td>\n",
       "    </tr>\n",
       "    <tr>\n",
       "      <th>17377</th>\n",
       "      <td>spring</td>\n",
       "      <td>1</td>\n",
       "      <td>Dec</td>\n",
       "      <td>22</td>\n",
       "      <td>Tue</td>\n",
       "      <td>W_day</td>\n",
       "      <td>Clear</td>\n",
       "      <td>0.26</td>\n",
       "      <td>0.2727</td>\n",
       "      <td>0.56</td>\n",
       "      <td>0.1343</td>\n",
       "      <td>13</td>\n",
       "      <td>48</td>\n",
       "      <td>61</td>\n",
       "    </tr>\n",
       "    <tr>\n",
       "      <th>17378</th>\n",
       "      <td>spring</td>\n",
       "      <td>1</td>\n",
       "      <td>Dec</td>\n",
       "      <td>23</td>\n",
       "      <td>Tue</td>\n",
       "      <td>W_day</td>\n",
       "      <td>Clear</td>\n",
       "      <td>0.26</td>\n",
       "      <td>0.2727</td>\n",
       "      <td>0.65</td>\n",
       "      <td>0.1343</td>\n",
       "      <td>12</td>\n",
       "      <td>37</td>\n",
       "      <td>49</td>\n",
       "    </tr>\n",
       "  </tbody>\n",
       "</table>\n",
       "<p>17379 rows × 14 columns</p>\n",
       "</div>"
      ],
      "text/plain": [
       "       season  yr mnth  hr weekday workingday weathersit  temp   atemp   hum  \\\n",
       "0      spring   0  Jan   0     Sun    Holiday      Clear  0.24  0.2879  0.81   \n",
       "1      spring   0  Jan   1     Sun    Holiday      Clear  0.22  0.2727  0.80   \n",
       "2      spring   0  Jan   2     Sun    Holiday      Clear  0.22  0.2727  0.80   \n",
       "3      spring   0  Jan   3     Sun    Holiday      Clear  0.24  0.2879  0.75   \n",
       "4      spring   0  Jan   4     Sun    Holiday      Clear  0.24  0.2879  0.75   \n",
       "...       ...  ..  ...  ..     ...        ...        ...   ...     ...   ...   \n",
       "17374  spring   1  Dec  19     Tue      W_day       Mist  0.26  0.2576  0.60   \n",
       "17375  spring   1  Dec  20     Tue      W_day       Mist  0.26  0.2576  0.60   \n",
       "17376  spring   1  Dec  21     Tue      W_day      Clear  0.26  0.2576  0.60   \n",
       "17377  spring   1  Dec  22     Tue      W_day      Clear  0.26  0.2727  0.56   \n",
       "17378  spring   1  Dec  23     Tue      W_day      Clear  0.26  0.2727  0.65   \n",
       "\n",
       "       windspeed  casual  registered  cnt  \n",
       "0         0.0000       3          13   16  \n",
       "1         0.0000       8          32   40  \n",
       "2         0.0000       5          27   32  \n",
       "3         0.0000       3          10   13  \n",
       "4         0.0000       0           1    1  \n",
       "...          ...     ...         ...  ...  \n",
       "17374     0.1642      11         108  119  \n",
       "17375     0.1642       8          81   89  \n",
       "17376     0.1642       7          83   90  \n",
       "17377     0.1343      13          48   61  \n",
       "17378     0.1343      12          37   49  \n",
       "\n",
       "[17379 rows x 14 columns]"
      ]
     },
     "execution_count": 96,
     "metadata": {},
     "output_type": "execute_result"
    }
   ],
   "source": [
    "df_hrv"
   ]
  },
  {
   "cell_type": "markdown",
   "id": "e0512c15",
   "metadata": {},
   "source": [
    "### Let's apply all the processing to **'df_day'** dataframe"
   ]
  },
  {
   "cell_type": "code",
   "execution_count": 97,
   "id": "cc40ef52",
   "metadata": {},
   "outputs": [],
   "source": [
    "\n",
    "df_dayv['season']=df_dayv['season'].map({1:'spring',2:'summer',3:'fall',4:'winter'})\n",
    "df_dayv['weekday']=df_dayv['weekday'].map({0:'Mon',1:'Tue',2:'Wed',3:'Thu',4:'Fri',5:'Sat',6:'Sun'})\n",
    "df_dayv['workingday']=df_dayv['workingday'].map({0:'Holiday',1:'W_day'})\n",
    "df_dayv['weathersit']=df_dayv['weathersit'].map({1:'Clear',2:'Mist',3:'Light Snow',4:'Heavy Rain'})\n",
    "df_dayv['mnth']=df_dayv['mnth'].map({1:'Jan',2:'Feb',3:'Mar',4:'Apr',5:'May',6:'June',7:'July',8:'Aug',9:'Sep',10:'Oct',11:'Nov',12:'Dec'})"
   ]
  },
  {
   "cell_type": "code",
   "execution_count": 98,
   "id": "53c3502c",
   "metadata": {},
   "outputs": [
    {
     "data": {
      "text/html": [
       "<div>\n",
       "<style scoped>\n",
       "    .dataframe tbody tr th:only-of-type {\n",
       "        vertical-align: middle;\n",
       "    }\n",
       "\n",
       "    .dataframe tbody tr th {\n",
       "        vertical-align: top;\n",
       "    }\n",
       "\n",
       "    .dataframe thead th {\n",
       "        text-align: right;\n",
       "    }\n",
       "</style>\n",
       "<table border=\"1\" class=\"dataframe\">\n",
       "  <thead>\n",
       "    <tr style=\"text-align: right;\">\n",
       "      <th></th>\n",
       "      <th>season</th>\n",
       "      <th>yr</th>\n",
       "      <th>mnth</th>\n",
       "      <th>weekday</th>\n",
       "      <th>workingday</th>\n",
       "      <th>weathersit</th>\n",
       "      <th>temp</th>\n",
       "      <th>atemp</th>\n",
       "      <th>hum</th>\n",
       "      <th>windspeed</th>\n",
       "      <th>casual</th>\n",
       "      <th>registered</th>\n",
       "      <th>cnt</th>\n",
       "    </tr>\n",
       "  </thead>\n",
       "  <tbody>\n",
       "    <tr>\n",
       "      <th>0</th>\n",
       "      <td>spring</td>\n",
       "      <td>0</td>\n",
       "      <td>Jan</td>\n",
       "      <td>Sun</td>\n",
       "      <td>Holiday</td>\n",
       "      <td>Mist</td>\n",
       "      <td>0.344167</td>\n",
       "      <td>0.363625</td>\n",
       "      <td>0.805833</td>\n",
       "      <td>0.160446</td>\n",
       "      <td>331</td>\n",
       "      <td>654</td>\n",
       "      <td>985</td>\n",
       "    </tr>\n",
       "    <tr>\n",
       "      <th>1</th>\n",
       "      <td>spring</td>\n",
       "      <td>0</td>\n",
       "      <td>Jan</td>\n",
       "      <td>Mon</td>\n",
       "      <td>Holiday</td>\n",
       "      <td>Mist</td>\n",
       "      <td>0.363478</td>\n",
       "      <td>0.353739</td>\n",
       "      <td>0.696087</td>\n",
       "      <td>0.248539</td>\n",
       "      <td>131</td>\n",
       "      <td>670</td>\n",
       "      <td>801</td>\n",
       "    </tr>\n",
       "    <tr>\n",
       "      <th>2</th>\n",
       "      <td>spring</td>\n",
       "      <td>0</td>\n",
       "      <td>Jan</td>\n",
       "      <td>Tue</td>\n",
       "      <td>W_day</td>\n",
       "      <td>Clear</td>\n",
       "      <td>0.196364</td>\n",
       "      <td>0.189405</td>\n",
       "      <td>0.437273</td>\n",
       "      <td>0.248309</td>\n",
       "      <td>120</td>\n",
       "      <td>1229</td>\n",
       "      <td>1349</td>\n",
       "    </tr>\n",
       "    <tr>\n",
       "      <th>3</th>\n",
       "      <td>spring</td>\n",
       "      <td>0</td>\n",
       "      <td>Jan</td>\n",
       "      <td>Wed</td>\n",
       "      <td>W_day</td>\n",
       "      <td>Clear</td>\n",
       "      <td>0.200000</td>\n",
       "      <td>0.212122</td>\n",
       "      <td>0.590435</td>\n",
       "      <td>0.160296</td>\n",
       "      <td>108</td>\n",
       "      <td>1454</td>\n",
       "      <td>1562</td>\n",
       "    </tr>\n",
       "    <tr>\n",
       "      <th>4</th>\n",
       "      <td>spring</td>\n",
       "      <td>0</td>\n",
       "      <td>Jan</td>\n",
       "      <td>Thu</td>\n",
       "      <td>W_day</td>\n",
       "      <td>Clear</td>\n",
       "      <td>0.226957</td>\n",
       "      <td>0.229270</td>\n",
       "      <td>0.436957</td>\n",
       "      <td>0.186900</td>\n",
       "      <td>82</td>\n",
       "      <td>1518</td>\n",
       "      <td>1600</td>\n",
       "    </tr>\n",
       "  </tbody>\n",
       "</table>\n",
       "</div>"
      ],
      "text/plain": [
       "   season  yr mnth weekday workingday weathersit      temp     atemp  \\\n",
       "0  spring   0  Jan     Sun    Holiday       Mist  0.344167  0.363625   \n",
       "1  spring   0  Jan     Mon    Holiday       Mist  0.363478  0.353739   \n",
       "2  spring   0  Jan     Tue      W_day      Clear  0.196364  0.189405   \n",
       "3  spring   0  Jan     Wed      W_day      Clear  0.200000  0.212122   \n",
       "4  spring   0  Jan     Thu      W_day      Clear  0.226957  0.229270   \n",
       "\n",
       "        hum  windspeed  casual  registered   cnt  \n",
       "0  0.805833   0.160446     331         654   985  \n",
       "1  0.696087   0.248539     131         670   801  \n",
       "2  0.437273   0.248309     120        1229  1349  \n",
       "3  0.590435   0.160296     108        1454  1562  \n",
       "4  0.436957   0.186900      82        1518  1600  "
      ]
     },
     "execution_count": 98,
     "metadata": {},
     "output_type": "execute_result"
    }
   ],
   "source": [
    "df_dayv.head()"
   ]
  },
  {
   "cell_type": "markdown",
   "id": "ec1b61e1",
   "metadata": {},
   "source": [
    "**Season**"
   ]
  },
  {
   "cell_type": "code",
   "execution_count": 99,
   "id": "50968afd",
   "metadata": {},
   "outputs": [
    {
     "data": {
      "image/png": "[encoded data removed]",
      "text/plain": [
       "<Figure size 432x288 with 1 Axes>"
      ]
     },
     "metadata": {},
     "output_type": "display_data"
    }
   ],
   "source": [
    "sns.barplot(x='season',y='cnt',data=df_dayv)\n",
    "plt.show()"
   ]
  },
  {
   "cell_type": "markdown",
   "id": "2aaf710e",
   "metadata": {},
   "source": [
    "Bike rentals are more during **Fall** season"
   ]
  },
  {
   "cell_type": "markdown",
   "id": "7651d12c",
   "metadata": {},
   "source": [
    "**Hour**"
   ]
  },
  {
   "cell_type": "code",
   "execution_count": 100,
   "id": "9d11823b",
   "metadata": {
    "scrolled": true
   },
   "outputs": [
    {
     "data": {
      "image/png": "[encoded data removed]",
      "text/plain": [
       "<Figure size 720x360 with 1 Axes>"
      ]
     },
     "metadata": {},
     "output_type": "display_data"
    }
   ],
   "source": [
    "plt.figure(figsize=(10,5))\n",
    "sns.barplot(x='hr',y='cnt',data=df_hrv)\n",
    "plt.show()"
   ]
  },
  {
   "cell_type": "markdown",
   "id": "b7bf5c5c",
   "metadata": {},
   "source": [
    "Bike rentals gradually starts increasing in the morning hours by 7 AM onwards make peak demand around 8 AM then consistent throuhout the day till 3 PM. <br>\n",
    "Demand in bike rental again started increasing sharply around 4 PM onwards make peak demand around 5 PM-6 PM and then demand starts decreasing gradually as we approach to 11 PM.<br>\n",
    "Lowest demand observed during midninght hours till early morning hours i.e.(11 PM to 6 AM)"
   ]
  },
  {
   "cell_type": "markdown",
   "id": "47f996ae",
   "metadata": {},
   "source": [
    "Let's convert 'hr' feature to categorical having total 3 types : Morning(8-15), Evening(16-23) & Night(24-7)"
   ]
  },
  {
   "cell_type": "code",
   "execution_count": 101,
   "id": "b4371ca6",
   "metadata": {},
   "outputs": [],
   "source": [
    "def assign_label(hr):\n",
    "    if hr in range(8,16):\n",
    "        label=1\n",
    "    elif hr in range(16,24):\n",
    "        label=2\n",
    "    elif (hr in range(0,8) or hr==24):\n",
    "        label=3\n",
    "    return label"
   ]
  },
  {
   "cell_type": "code",
   "execution_count": 102,
   "id": "02ef1fdb",
   "metadata": {},
   "outputs": [
    {
     "data": {
      "image/png": "[encoded data removed]",
      "text/plain": [
       "<Figure size 432x288 with 1 Axes>"
      ]
     },
     "metadata": {},
     "output_type": "display_data"
    }
   ],
   "source": [
    "ax=sns.barplot(x=df_hrv['hr'].apply(assign_label),y=df_hrv['cnt'])\n",
    "ax.set_xticklabels(['8-15','16-23','24-7'])\n",
    "plt.show()"
   ]
  },
  {
   "cell_type": "markdown",
   "id": "f0db7fab",
   "metadata": {},
   "source": [
    "We can clearly see that frequency of bike rentals is at it's lowest during midnight to early morning hours"
   ]
  },
  {
   "cell_type": "markdown",
   "id": "04eaad4a",
   "metadata": {},
   "source": [
    "**Weekday** & **Working day**"
   ]
  },
  {
   "cell_type": "code",
   "execution_count": 103,
   "id": "13f80faf",
   "metadata": {
    "scrolled": false
   },
   "outputs": [
    {
     "data": {
      "image/png": "[encoded data removed]",
      "text/plain": [
       "<Figure size 1152x360 with 2 Axes>"
      ]
     },
     "metadata": {},
     "output_type": "display_data"
    }
   ],
   "source": [
    "plt.figure(figsize=(16,5))\n",
    "plt.subplot(1,2,1)\n",
    "sns.barplot(x='weekday',y='cnt',data=df_dayv)\n",
    "\n",
    "plt.subplot(1,2,2)\n",
    "sns.barplot(x='workingday',y='cnt',data=df_dayv)\n",
    "plt.show()"
   ]
  },
  {
   "cell_type": "code",
   "execution_count": 104,
   "id": "cf972598",
   "metadata": {},
   "outputs": [
    {
     "data": {
      "text/plain": [
       "weekday\n",
       "Mon    444027\n",
       "Tue    455503\n",
       "Wed    469109\n",
       "Thu    473048\n",
       "Sun    477807\n",
       "Fri    485395\n",
       "Sat    487790\n",
       "Name: cnt, dtype: int64"
      ]
     },
     "execution_count": 104,
     "metadata": {},
     "output_type": "execute_result"
    }
   ],
   "source": [
    "df_dayv.groupby('weekday')['cnt'].sum().sort_values()"
   ]
  },
  {
   "cell_type": "code",
   "execution_count": 105,
   "id": "d17c02af",
   "metadata": {},
   "outputs": [
    {
     "data": {
      "text/plain": [
       "470382.71428571426"
      ]
     },
     "execution_count": 105,
     "metadata": {},
     "output_type": "execute_result"
    }
   ],
   "source": [
    "df_dayv.groupby('weekday')['cnt'].sum().mean()"
   ]
  },
  {
   "cell_type": "markdown",
   "id": "7ab65689",
   "metadata": {},
   "source": [
    "On an average, count for bike rental seems to be lesser on 'Monday' & higher on  'Fri', 'Sat' & 'Sun'.<br>\n",
    "Bikes seems to be rented more in working days compare to that on holiday "
   ]
  },
  {
   "cell_type": "markdown",
   "id": "50d54f30",
   "metadata": {},
   "source": [
    "**Weathersit**"
   ]
  },
  {
   "cell_type": "code",
   "execution_count": 106,
   "id": "c82aa7f9",
   "metadata": {},
   "outputs": [
    {
     "data": {
      "image/png": "[encoded data removed]",
      "text/plain": [
       "<Figure size 432x288 with 1 Axes>"
      ]
     },
     "metadata": {},
     "output_type": "display_data"
    }
   ],
   "source": [
    "sns.barplot(x='weathersit',y='cnt',data=df_dayv)\n",
    "plt.show()"
   ]
  },
  {
   "cell_type": "markdown",
   "id": "159f6745",
   "metadata": {},
   "source": [
    "Demand for bike rental is at it's peak when weather conditions are clear & mist.<br>\n",
    "Bikes seems to be rented less in light snow as well as heavy rain condition."
   ]
  },
  {
   "cell_type": "markdown",
   "id": "8d101428",
   "metadata": {},
   "source": [
    "**Casual & Registered users**"
   ]
  },
  {
   "cell_type": "code",
   "execution_count": 107,
   "id": "c0378ee4",
   "metadata": {},
   "outputs": [],
   "source": [
    "reg_cnt=df_dayv['registered'].sum()    # Count of bike rentals by registered users\n",
    "cas_cnt=df_dayv['casual'].sum()        # Count of bike rentals by casual users"
   ]
  },
  {
   "cell_type": "code",
   "execution_count": 108,
   "id": "8e3308a7",
   "metadata": {},
   "outputs": [
    {
     "data": {
      "image/png": "[encoded data removed]",
      "text/plain": [
       "<Figure size 432x288 with 1 Axes>"
      ]
     },
     "metadata": {},
     "output_type": "display_data"
    }
   ],
   "source": [
    "plt.pie([reg_cnt,cas_cnt],labels=['registered','casual'])\n",
    "plt.show()"
   ]
  },
  {
   "cell_type": "markdown",
   "id": "0623b0fb",
   "metadata": {},
   "source": [
    "Registered users are more in numbers compare to that of casual users."
   ]
  },
  {
   "cell_type": "markdown",
   "id": "c2187afc",
   "metadata": {},
   "source": [
    "**Year**"
   ]
  },
  {
   "cell_type": "code",
   "execution_count": 109,
   "id": "78d4a281",
   "metadata": {},
   "outputs": [
    {
     "data": {
      "image/png": "[encoded data removed]",
      "text/plain": [
       "<Figure size 432x288 with 1 Axes>"
      ]
     },
     "metadata": {},
     "output_type": "display_data"
    }
   ],
   "source": [
    "ax=sns.barplot(x='yr',y='cnt',data=df_dayv)\n",
    "ax.set_xticklabels([2011,2012])\n",
    "plt.show()"
   ]
  },
  {
   "cell_type": "markdown",
   "id": "23dd2a70",
   "metadata": {},
   "source": [
    "It seems that users get incresed in 2012 with respect to 2011"
   ]
  },
  {
   "cell_type": "markdown",
   "id": "fda27d21",
   "metadata": {},
   "source": [
    "**Month**"
   ]
  },
  {
   "cell_type": "code",
   "execution_count": 110,
   "id": "e0877705",
   "metadata": {},
   "outputs": [
    {
     "data": {
      "image/png": "[encoded data removed]",
      "text/plain": [
       "<Figure size 720x360 with 1 Axes>"
      ]
     },
     "metadata": {},
     "output_type": "display_data"
    }
   ],
   "source": [
    "plt.figure(figsize=(10,5))\n",
    "sns.barplot(x='mnth',y='cnt',data=df_dayv)\n",
    "plt.show()"
   ]
  },
  {
   "cell_type": "markdown",
   "id": "775be212",
   "metadata": {},
   "source": [
    "Period from **May to October** has seen very good demand in bike rentals"
   ]
  },
  {
   "cell_type": "markdown",
   "id": "5a00a51e",
   "metadata": {},
   "source": [
    "### Numerical Variables"
   ]
  },
  {
   "cell_type": "markdown",
   "id": "d0a14b54",
   "metadata": {},
   "source": [
    "**temp** & **atemp**"
   ]
  },
  {
   "cell_type": "code",
   "execution_count": 111,
   "id": "b4b662dd",
   "metadata": {},
   "outputs": [
    {
     "data": {
      "image/png": "[encoded data removed]",
      "text/plain": [
       "<Figure size 1296x432 with 2 Axes>"
      ]
     },
     "metadata": {},
     "output_type": "display_data"
    }
   ],
   "source": [
    "plt.figure(figsize=(18,6))\n",
    "plt.subplot(1,2,1)\n",
    "sns.scatterplot(x='temp',y='cnt',data=df_dayv)\n",
    "\n",
    "plt.subplot(1,2,2)\n",
    "sns.scatterplot(x='atemp',y='cnt',data=df_dayv)\n",
    "plt.show()\n"
   ]
  },
  {
   "cell_type": "markdown",
   "id": "5a16b208",
   "metadata": {},
   "source": [
    "It can be seen that higher count of bike rentals observed at higher temperature & higher 'feel-like' temperature.<br>\n",
    "Also the distribution of both graphs is quite similar, so we can think of dropping one of the feature going forward."
   ]
  },
  {
   "cell_type": "markdown",
   "id": "b0e0b5c2",
   "metadata": {},
   "source": [
    "**Humidity**"
   ]
  },
  {
   "cell_type": "code",
   "execution_count": 112,
   "id": "25e7d89f",
   "metadata": {},
   "outputs": [
    {
     "data": {
      "image/png": "[encoded data removed]",
      "text/plain": [
       "<Figure size 576x432 with 1 Axes>"
      ]
     },
     "metadata": {},
     "output_type": "display_data"
    }
   ],
   "source": [
    "plt.figure(figsize=(8,6))\n",
    "sns.scatterplot(x='hum',y='cnt',data=df_dayv)\n",
    "plt.show()"
   ]
  },
  {
   "cell_type": "markdown",
   "id": "d9ef0b8a",
   "metadata": {},
   "source": [
    "It can be seen that higher count of bike rentals observed at higher humidity values.<br>"
   ]
  },
  {
   "cell_type": "markdown",
   "id": "ed211764",
   "metadata": {},
   "source": [
    "**Windspeed**"
   ]
  },
  {
   "cell_type": "code",
   "execution_count": 113,
   "id": "88216ba6",
   "metadata": {},
   "outputs": [
    {
     "data": {
      "image/png": "[encoded data removed]",
      "text/plain": [
       "<Figure size 576x432 with 1 Axes>"
      ]
     },
     "metadata": {},
     "output_type": "display_data"
    }
   ],
   "source": [
    "plt.figure(figsize=(8,6))\n",
    "sns.scatterplot(x='windspeed',y='cnt',data=df_dayv)\n",
    "plt.show()"
   ]
  },
  {
   "cell_type": "markdown",
   "id": "51a11152",
   "metadata": {},
   "source": [
    "It can be seen that demands for bike rental is higher at lower windspeed.<br>"
   ]
  },
  {
   "cell_type": "markdown",
   "id": "10fdbe21",
   "metadata": {},
   "source": [
    "### Let's see the distribution of our target variable"
   ]
  },
  {
   "cell_type": "code",
   "execution_count": 114,
   "id": "e8da1b81",
   "metadata": {},
   "outputs": [
    {
     "data": {
      "image/png": "[encoded data removed]",
      "text/plain": [
       "<Figure size 1152x432 with 2 Axes>"
      ]
     },
     "metadata": {},
     "output_type": "display_data"
    }
   ],
   "source": [
    "# Per Day basis\n",
    "plt.figure(figsize=(16,6))\n",
    "plt.subplot(1,2,1)\n",
    "sns.histplot(df_dayv['cnt'])\n",
    "plt.title('Distribution of Count (Per Day)')\n",
    "\n",
    "# Per Hr basis\n",
    "plt.subplot(1,2,2)\n",
    "sns.histplot(df_hrv['cnt'])\n",
    "plt.title('Distribution of Count (Per Hour)')\n",
    "plt.show()\n"
   ]
  },
  {
   "cell_type": "markdown",
   "id": "83f5ccc2",
   "metadata": {},
   "source": [
    "Distribution of Count (Per Day):**Normally distributed** <br>\n",
    "Distribution of Count (Per Hr) :**Right Skewed**"
   ]
  },
  {
   "cell_type": "markdown",
   "id": "86c8477a",
   "metadata": {},
   "source": [
    "### Now let's check the correlation of our continuious varibles with target variable"
   ]
  },
  {
   "cell_type": "code",
   "execution_count": 115,
   "id": "ec0b71ec",
   "metadata": {
    "scrolled": true
   },
   "outputs": [
    {
     "data": {
      "text/html": [
       "<div>\n",
       "<style scoped>\n",
       "    .dataframe tbody tr th:only-of-type {\n",
       "        vertical-align: middle;\n",
       "    }\n",
       "\n",
       "    .dataframe tbody tr th {\n",
       "        vertical-align: top;\n",
       "    }\n",
       "\n",
       "    .dataframe thead th {\n",
       "        text-align: right;\n",
       "    }\n",
       "</style>\n",
       "<table border=\"1\" class=\"dataframe\">\n",
       "  <thead>\n",
       "    <tr style=\"text-align: right;\">\n",
       "      <th></th>\n",
       "      <th>temp</th>\n",
       "      <th>atemp</th>\n",
       "      <th>hum</th>\n",
       "      <th>windspeed</th>\n",
       "      <th>cnt</th>\n",
       "    </tr>\n",
       "  </thead>\n",
       "  <tbody>\n",
       "    <tr>\n",
       "      <th>temp</th>\n",
       "      <td>1.000000</td>\n",
       "      <td>0.991702</td>\n",
       "      <td>0.126963</td>\n",
       "      <td>-0.157944</td>\n",
       "      <td>0.627494</td>\n",
       "    </tr>\n",
       "    <tr>\n",
       "      <th>atemp</th>\n",
       "      <td>0.991702</td>\n",
       "      <td>1.000000</td>\n",
       "      <td>0.139988</td>\n",
       "      <td>-0.183643</td>\n",
       "      <td>0.631066</td>\n",
       "    </tr>\n",
       "    <tr>\n",
       "      <th>hum</th>\n",
       "      <td>0.126963</td>\n",
       "      <td>0.139988</td>\n",
       "      <td>1.000000</td>\n",
       "      <td>-0.248489</td>\n",
       "      <td>-0.100659</td>\n",
       "    </tr>\n",
       "    <tr>\n",
       "      <th>windspeed</th>\n",
       "      <td>-0.157944</td>\n",
       "      <td>-0.183643</td>\n",
       "      <td>-0.248489</td>\n",
       "      <td>1.000000</td>\n",
       "      <td>-0.234545</td>\n",
       "    </tr>\n",
       "    <tr>\n",
       "      <th>cnt</th>\n",
       "      <td>0.627494</td>\n",
       "      <td>0.631066</td>\n",
       "      <td>-0.100659</td>\n",
       "      <td>-0.234545</td>\n",
       "      <td>1.000000</td>\n",
       "    </tr>\n",
       "  </tbody>\n",
       "</table>\n",
       "</div>"
      ],
      "text/plain": [
       "               temp     atemp       hum  windspeed       cnt\n",
       "temp       1.000000  0.991702  0.126963  -0.157944  0.627494\n",
       "atemp      0.991702  1.000000  0.139988  -0.183643  0.631066\n",
       "hum        0.126963  0.139988  1.000000  -0.248489 -0.100659\n",
       "windspeed -0.157944 -0.183643 -0.248489   1.000000 -0.234545\n",
       "cnt        0.627494  0.631066 -0.100659  -0.234545  1.000000"
      ]
     },
     "execution_count": 115,
     "metadata": {},
     "output_type": "execute_result"
    }
   ],
   "source": [
    "data=['temp','atemp','hum','windspeed','cnt']\n",
    "df_day[data].corr()"
   ]
  },
  {
   "cell_type": "code",
   "execution_count": 116,
   "id": "da51646f",
   "metadata": {},
   "outputs": [
    {
     "data": {
      "image/png": "[encoded data removed]",
      "text/plain": [
       "<Figure size 720x360 with 2 Axes>"
      ]
     },
     "metadata": {},
     "output_type": "display_data"
    }
   ],
   "source": [
    "plt.figure(figsize=(10,5))\n",
    "sns.heatmap(df_day[data].corr(),annot=True,cmap=\"YlGnBu\",mask=np.triu(np.ones_like(df_day[data].corr())))\n",
    "plt.show()"
   ]
  },
  {
   "cell_type": "markdown",
   "id": "8a3cf709",
   "metadata": {},
   "source": [
    "Features having **+ve correlation** with target variable:\n",
    "-  'temp', \n",
    "-  'atemp'\n",
    "\n",
    "Features having **-ve correlation** with target variable:\n",
    "-  'windspeed'\n",
    "\n",
    "Features having **no correlation** with the target variable:\n",
    "-  'hum'"
   ]
  },
  {
   "cell_type": "markdown",
   "id": "5aa6e759",
   "metadata": {},
   "source": [
    "**It can be observed that 'temp & 'atemp' are highly correlated and we should drop one of them to avoid multicollinearity**<br>\n",
    "\n",
    "**Also 'casual' & 'registered' varables combinely results into the 'cnt' variable, so we can drop both of them to have 'cnt' as  our only target variable going forward**"
   ]
  },
  {
   "cell_type": "code",
   "execution_count": 117,
   "id": "a0aad640",
   "metadata": {},
   "outputs": [
    {
     "data": {
      "text/html": [
       "<div>\n",
       "<style scoped>\n",
       "    .dataframe tbody tr th:only-of-type {\n",
       "        vertical-align: middle;\n",
       "    }\n",
       "\n",
       "    .dataframe tbody tr th {\n",
       "        vertical-align: top;\n",
       "    }\n",
       "\n",
       "    .dataframe thead th {\n",
       "        text-align: right;\n",
       "    }\n",
       "</style>\n",
       "<table border=\"1\" class=\"dataframe\">\n",
       "  <thead>\n",
       "    <tr style=\"text-align: right;\">\n",
       "      <th></th>\n",
       "      <th>season</th>\n",
       "      <th>yr</th>\n",
       "      <th>mnth</th>\n",
       "      <th>hr</th>\n",
       "      <th>weekday</th>\n",
       "      <th>workingday</th>\n",
       "      <th>weathersit</th>\n",
       "      <th>temp</th>\n",
       "      <th>atemp</th>\n",
       "      <th>hum</th>\n",
       "      <th>windspeed</th>\n",
       "      <th>casual</th>\n",
       "      <th>registered</th>\n",
       "      <th>cnt</th>\n",
       "    </tr>\n",
       "  </thead>\n",
       "  <tbody>\n",
       "    <tr>\n",
       "      <th>0</th>\n",
       "      <td>1</td>\n",
       "      <td>0</td>\n",
       "      <td>1</td>\n",
       "      <td>0</td>\n",
       "      <td>6</td>\n",
       "      <td>0</td>\n",
       "      <td>1</td>\n",
       "      <td>0.24</td>\n",
       "      <td>0.2879</td>\n",
       "      <td>0.81</td>\n",
       "      <td>0.0</td>\n",
       "      <td>3</td>\n",
       "      <td>13</td>\n",
       "      <td>16</td>\n",
       "    </tr>\n",
       "    <tr>\n",
       "      <th>1</th>\n",
       "      <td>1</td>\n",
       "      <td>0</td>\n",
       "      <td>1</td>\n",
       "      <td>1</td>\n",
       "      <td>6</td>\n",
       "      <td>0</td>\n",
       "      <td>1</td>\n",
       "      <td>0.22</td>\n",
       "      <td>0.2727</td>\n",
       "      <td>0.80</td>\n",
       "      <td>0.0</td>\n",
       "      <td>8</td>\n",
       "      <td>32</td>\n",
       "      <td>40</td>\n",
       "    </tr>\n",
       "    <tr>\n",
       "      <th>2</th>\n",
       "      <td>1</td>\n",
       "      <td>0</td>\n",
       "      <td>1</td>\n",
       "      <td>2</td>\n",
       "      <td>6</td>\n",
       "      <td>0</td>\n",
       "      <td>1</td>\n",
       "      <td>0.22</td>\n",
       "      <td>0.2727</td>\n",
       "      <td>0.80</td>\n",
       "      <td>0.0</td>\n",
       "      <td>5</td>\n",
       "      <td>27</td>\n",
       "      <td>32</td>\n",
       "    </tr>\n",
       "    <tr>\n",
       "      <th>3</th>\n",
       "      <td>1</td>\n",
       "      <td>0</td>\n",
       "      <td>1</td>\n",
       "      <td>3</td>\n",
       "      <td>6</td>\n",
       "      <td>0</td>\n",
       "      <td>1</td>\n",
       "      <td>0.24</td>\n",
       "      <td>0.2879</td>\n",
       "      <td>0.75</td>\n",
       "      <td>0.0</td>\n",
       "      <td>3</td>\n",
       "      <td>10</td>\n",
       "      <td>13</td>\n",
       "    </tr>\n",
       "    <tr>\n",
       "      <th>4</th>\n",
       "      <td>1</td>\n",
       "      <td>0</td>\n",
       "      <td>1</td>\n",
       "      <td>4</td>\n",
       "      <td>6</td>\n",
       "      <td>0</td>\n",
       "      <td>1</td>\n",
       "      <td>0.24</td>\n",
       "      <td>0.2879</td>\n",
       "      <td>0.75</td>\n",
       "      <td>0.0</td>\n",
       "      <td>0</td>\n",
       "      <td>1</td>\n",
       "      <td>1</td>\n",
       "    </tr>\n",
       "  </tbody>\n",
       "</table>\n",
       "</div>"
      ],
      "text/plain": [
       "   season  yr  mnth  hr  weekday  workingday  weathersit  temp   atemp   hum  \\\n",
       "0       1   0     1   0        6           0           1  0.24  0.2879  0.81   \n",
       "1       1   0     1   1        6           0           1  0.22  0.2727  0.80   \n",
       "2       1   0     1   2        6           0           1  0.22  0.2727  0.80   \n",
       "3       1   0     1   3        6           0           1  0.24  0.2879  0.75   \n",
       "4       1   0     1   4        6           0           1  0.24  0.2879  0.75   \n",
       "\n",
       "   windspeed  casual  registered  cnt  \n",
       "0        0.0       3          13   16  \n",
       "1        0.0       8          32   40  \n",
       "2        0.0       5          27   32  \n",
       "3        0.0       3          10   13  \n",
       "4        0.0       0           1    1  "
      ]
     },
     "execution_count": 117,
     "metadata": {},
     "output_type": "execute_result"
    }
   ],
   "source": [
    "df_hr.head()"
   ]
  },
  {
   "cell_type": "code",
   "execution_count": 118,
   "id": "26ed7495",
   "metadata": {},
   "outputs": [],
   "source": [
    "df_day.drop(['atemp','casual','registered'],axis=1,inplace=True)\n",
    "df_hr.drop(['atemp','casual','registered'],axis=1,inplace=True)"
   ]
  },
  {
   "cell_type": "code",
   "execution_count": 119,
   "id": "fe12667e",
   "metadata": {
    "scrolled": false
   },
   "outputs": [
    {
     "data": {
      "text/html": [
       "<div>\n",
       "<style scoped>\n",
       "    .dataframe tbody tr th:only-of-type {\n",
       "        vertical-align: middle;\n",
       "    }\n",
       "\n",
       "    .dataframe tbody tr th {\n",
       "        vertical-align: top;\n",
       "    }\n",
       "\n",
       "    .dataframe thead th {\n",
       "        text-align: right;\n",
       "    }\n",
       "</style>\n",
       "<table border=\"1\" class=\"dataframe\">\n",
       "  <thead>\n",
       "    <tr style=\"text-align: right;\">\n",
       "      <th></th>\n",
       "      <th>season</th>\n",
       "      <th>yr</th>\n",
       "      <th>mnth</th>\n",
       "      <th>hr</th>\n",
       "      <th>weekday</th>\n",
       "      <th>workingday</th>\n",
       "      <th>weathersit</th>\n",
       "      <th>temp</th>\n",
       "      <th>hum</th>\n",
       "      <th>windspeed</th>\n",
       "      <th>cnt</th>\n",
       "    </tr>\n",
       "  </thead>\n",
       "  <tbody>\n",
       "    <tr>\n",
       "      <th>0</th>\n",
       "      <td>1</td>\n",
       "      <td>0</td>\n",
       "      <td>1</td>\n",
       "      <td>0</td>\n",
       "      <td>6</td>\n",
       "      <td>0</td>\n",
       "      <td>1</td>\n",
       "      <td>0.24</td>\n",
       "      <td>0.81</td>\n",
       "      <td>0.0</td>\n",
       "      <td>16</td>\n",
       "    </tr>\n",
       "    <tr>\n",
       "      <th>1</th>\n",
       "      <td>1</td>\n",
       "      <td>0</td>\n",
       "      <td>1</td>\n",
       "      <td>1</td>\n",
       "      <td>6</td>\n",
       "      <td>0</td>\n",
       "      <td>1</td>\n",
       "      <td>0.22</td>\n",
       "      <td>0.80</td>\n",
       "      <td>0.0</td>\n",
       "      <td>40</td>\n",
       "    </tr>\n",
       "    <tr>\n",
       "      <th>2</th>\n",
       "      <td>1</td>\n",
       "      <td>0</td>\n",
       "      <td>1</td>\n",
       "      <td>2</td>\n",
       "      <td>6</td>\n",
       "      <td>0</td>\n",
       "      <td>1</td>\n",
       "      <td>0.22</td>\n",
       "      <td>0.80</td>\n",
       "      <td>0.0</td>\n",
       "      <td>32</td>\n",
       "    </tr>\n",
       "    <tr>\n",
       "      <th>3</th>\n",
       "      <td>1</td>\n",
       "      <td>0</td>\n",
       "      <td>1</td>\n",
       "      <td>3</td>\n",
       "      <td>6</td>\n",
       "      <td>0</td>\n",
       "      <td>1</td>\n",
       "      <td>0.24</td>\n",
       "      <td>0.75</td>\n",
       "      <td>0.0</td>\n",
       "      <td>13</td>\n",
       "    </tr>\n",
       "    <tr>\n",
       "      <th>4</th>\n",
       "      <td>1</td>\n",
       "      <td>0</td>\n",
       "      <td>1</td>\n",
       "      <td>4</td>\n",
       "      <td>6</td>\n",
       "      <td>0</td>\n",
       "      <td>1</td>\n",
       "      <td>0.24</td>\n",
       "      <td>0.75</td>\n",
       "      <td>0.0</td>\n",
       "      <td>1</td>\n",
       "    </tr>\n",
       "  </tbody>\n",
       "</table>\n",
       "</div>"
      ],
      "text/plain": [
       "   season  yr  mnth  hr  weekday  workingday  weathersit  temp   hum  \\\n",
       "0       1   0     1   0        6           0           1  0.24  0.81   \n",
       "1       1   0     1   1        6           0           1  0.22  0.80   \n",
       "2       1   0     1   2        6           0           1  0.22  0.80   \n",
       "3       1   0     1   3        6           0           1  0.24  0.75   \n",
       "4       1   0     1   4        6           0           1  0.24  0.75   \n",
       "\n",
       "   windspeed  cnt  \n",
       "0        0.0   16  \n",
       "1        0.0   40  \n",
       "2        0.0   32  \n",
       "3        0.0   13  \n",
       "4        0.0    1  "
      ]
     },
     "execution_count": 119,
     "metadata": {},
     "output_type": "execute_result"
    }
   ],
   "source": [
    "df_hr.head()"
   ]
  },
  {
   "cell_type": "markdown",
   "id": "fd32b0f2",
   "metadata": {},
   "source": [
    "**Splitting the dataset**"
   ]
  },
  {
   "cell_type": "code",
   "execution_count": 120,
   "id": "9a1bbe56",
   "metadata": {},
   "outputs": [],
   "source": [
    "X=df_hr.drop('cnt',axis=1)"
   ]
  },
  {
   "cell_type": "code",
   "execution_count": 121,
   "id": "31d1de61",
   "metadata": {},
   "outputs": [],
   "source": [
    "y=df_hr['cnt']"
   ]
  },
  {
   "cell_type": "code",
   "execution_count": 122,
   "id": "024458a2",
   "metadata": {},
   "outputs": [],
   "source": [
    "from sklearn.model_selection import train_test_split"
   ]
  },
  {
   "cell_type": "code",
   "execution_count": 123,
   "id": "744dc14c",
   "metadata": {},
   "outputs": [],
   "source": [
    "X_train, X_test, y_train, y_test = train_test_split(X, y, test_size=0.25, random_state=42)"
   ]
  },
  {
   "cell_type": "code",
   "execution_count": 124,
   "id": "36f90ed7",
   "metadata": {
    "scrolled": true
   },
   "outputs": [
    {
     "data": {
      "text/plain": [
       "((13034, 10), (4345, 10))"
      ]
     },
     "execution_count": 124,
     "metadata": {},
     "output_type": "execute_result"
    }
   ],
   "source": [
    "X_train.shape,X_test.shape"
   ]
  },
  {
   "cell_type": "markdown",
   "id": "69a2f748",
   "metadata": {},
   "source": [
    "As per problem statement, we need to predict bike rental count hourly or daily based on the environmental and seasonal settings.<br>\n",
    "So we will go for **Regression algorithms**."
   ]
  },
  {
   "cell_type": "markdown",
   "id": "ebbbb565",
   "metadata": {},
   "source": [
    "**Linear Regression**"
   ]
  },
  {
   "cell_type": "code",
   "execution_count": 125,
   "id": "0518e657",
   "metadata": {},
   "outputs": [],
   "source": [
    "from sklearn.linear_model import LinearRegression\n",
    "from sklearn.metrics import r2_score,mean_squared_error\n",
    "from sklearn.preprocessing import OneHotEncoder"
   ]
  },
  {
   "cell_type": "code",
   "execution_count": 126,
   "id": "7c821c37",
   "metadata": {},
   "outputs": [],
   "source": [
    "LR=LinearRegression()\n",
    "ohe=OneHotEncoder(sparse=False)"
   ]
  },
  {
   "cell_type": "code",
   "execution_count": 127,
   "id": "6eee382f",
   "metadata": {},
   "outputs": [],
   "source": [
    "X_train1=ohe.fit_transform(X_train[['season', 'yr','hr','mnth','weekday','workingday','weathersit']])"
   ]
  },
  {
   "cell_type": "code",
   "execution_count": 128,
   "id": "a8625891",
   "metadata": {},
   "outputs": [],
   "source": [
    "X_test1=ohe.fit_transform(X_test[['season', 'yr','hr','mnth','weekday','workingday','weathersit']])"
   ]
  },
  {
   "cell_type": "code",
   "execution_count": 129,
   "id": "6ddbeec0",
   "metadata": {},
   "outputs": [
    {
     "data": {
      "text/plain": [
       "((13034, 55), (13034,))"
      ]
     },
     "execution_count": 129,
     "metadata": {},
     "output_type": "execute_result"
    }
   ],
   "source": [
    "X_train1.shape, y_train.shape"
   ]
  },
  {
   "cell_type": "code",
   "execution_count": 130,
   "id": "12de2c4c",
   "metadata": {},
   "outputs": [
    {
     "data": {
      "text/plain": [
       "LinearRegression()"
      ]
     },
     "execution_count": 130,
     "metadata": {},
     "output_type": "execute_result"
    }
   ],
   "source": [
    "LR.fit(X_train1,y_train)"
   ]
  },
  {
   "cell_type": "code",
   "execution_count": 131,
   "id": "9418456f",
   "metadata": {},
   "outputs": [
    {
     "name": "stdout",
     "output_type": "stream",
     "text": [
      "r2_score for train data: 0.671615873525786\n",
      "r2_score for test data: 0.6656114198160008\n",
      "--------------------\n",
      "MSE for train data: 10883.737686051865\n",
      "RMSE for train data: 104.32515365937337\n",
      "--------------------\n",
      "MSE for test data: 10753.372151898735\n",
      "RMSE for test data: 103.69846745202523\n"
     ]
    }
   ],
   "source": [
    "# RMSE & R2 Score\n",
    "y_pred1=LR.predict(X_train1)\n",
    "y_hat=LR.predict(X_test1)\n",
    "r2_train_LR=r2_score(y_train,y_pred1)\n",
    "r2_test_LR=r2_score(y_test,y_hat)\n",
    "\n",
    "MSE_train_LR=mean_squared_error(y_train,y_pred1)\n",
    "RMSE_train_LR=np.sqrt(MSE_train_LR)\n",
    "\n",
    "MSE_test_LR=mean_squared_error(y_test,y_hat)\n",
    "RMSE_test_LR=np.sqrt(MSE_test_LR)\n",
    "\n",
    "print('r2_score for train data:',r2_train_LR)\n",
    "print('r2_score for test data:',r2_test_LR)\n",
    "print('-'*20)\n",
    "print('MSE for train data:',MSE_train_LR)\n",
    "print('RMSE for train data:',RMSE_train_LR)\n",
    "print('-'*20)\n",
    "print('MSE for test data:',MSE_test_LR)\n",
    "print('RMSE for test data:',RMSE_test_LR)\n"
   ]
  },
  {
   "cell_type": "code",
   "execution_count": 132,
   "id": "63ce1dd8",
   "metadata": {
    "scrolled": true
   },
   "outputs": [
    {
     "name": "stdout",
     "output_type": "stream",
     "text": [
      "Adjusted R2 for train data: 0.6702242009293857\n",
      "Adjusted R2 for test data: 0.6613233871953154\n"
     ]
    }
   ],
   "source": [
    "# Adjusted R2  Score\n",
    "train_adjusted_r2 = 1-((1-r2_train_LR)*(13034-1)/(13034-1-55))\n",
    "test_adjusted_r2 = 1-((1-r2_test_LR)*(4345-1)/(4345-1-55))\n",
    "\n",
    "print('Adjusted R2 for train data:',train_adjusted_r2)\n",
    "print('Adjusted R2 for test data:',test_adjusted_r2)"
   ]
  },
  {
   "cell_type": "markdown",
   "id": "f2758f42",
   "metadata": {},
   "source": [
    "We will try to see weather feature elimination will help us in improving R2_score along with reduction in RMSE error"
   ]
  },
  {
   "cell_type": "markdown",
   "id": "c8cd2291",
   "metadata": {},
   "source": [
    "**Feature Elimination**"
   ]
  },
  {
   "cell_type": "code",
   "execution_count": 133,
   "id": "22983e68",
   "metadata": {},
   "outputs": [
    {
     "name": "stdout",
     "output_type": "stream",
     "text": [
      "Num Features: 30\n",
      "Selected Features: [False False False False False False  True  True  True  True  True  True\n",
      "  True False False False False False False False False False False False\n",
      " False False False False False False  True  True  True  True  True  True\n",
      "  True  True  True  True  True  True  True  True  True  True  True  True\n",
      "  True False False  True  True  True  True]\n",
      "Feature Ranking: [26 25 24 23 22 21  1  1  1  1  1  1  1  7 16  8  5  6 13 12 10 11 15 18\n",
      " 17 14  9  4  3  2  1  1  1  1  1  1  1  1  1  1  1  1  1  1  1  1  1  1\n",
      "  1 19 20  1  1  1  1]\n"
     ]
    }
   ],
   "source": [
    "from sklearn.feature_selection import RFE\n",
    "rfe = RFE(LR,  n_features_to_select=30)\n",
    "fit = rfe.fit(X_train1, y_train)\n",
    "\n",
    "print(\"Num Features: %s\" % (fit.n_features_))\n",
    "print(\"Selected Features: %s\" % (fit.support_))\n",
    "print(\"Feature Ranking: %s\" % (fit.ranking_))\n"
   ]
  },
  {
   "cell_type": "code",
   "execution_count": 134,
   "id": "773ab382",
   "metadata": {},
   "outputs": [
    {
     "data": {
      "text/plain": [
       "LinearRegression()"
      ]
     },
     "execution_count": 134,
     "metadata": {},
     "output_type": "execute_result"
    }
   ],
   "source": [
    "LR1=LinearRegression()\n",
    "LR1.fit(rfe.transform(X_train1),y_train)"
   ]
  },
  {
   "cell_type": "code",
   "execution_count": 135,
   "id": "71f14e52",
   "metadata": {},
   "outputs": [
    {
     "name": "stdout",
     "output_type": "stream",
     "text": [
      "r2_score for train data: 0.4092050140196607\n",
      "r2_score for test data: 0.3967631002358222\n",
      "--------------------\n",
      "MSE for train data: 19580.902775912997\n",
      "RMSE for train data: 139.93177900646086\n",
      "--------------------\n",
      "MSE for test data: 19399.080181962025\n",
      "RMSE for test data: 139.2805807783771\n"
     ]
    }
   ],
   "source": [
    "# RMSE & R2 Score\n",
    "y_pred9=LR1.predict(rfe.transform(X_train1))\n",
    "y_hat=LR1.predict(rfe.transform(X_test1))\n",
    "r2_train_LR1=r2_score(y_train,y_pred9)\n",
    "r2_test_LR1=r2_score(y_test,y_hat)\n",
    "\n",
    "MSE_train_LR1=mean_squared_error(y_train,y_pred9)\n",
    "RMSE_train_LR1=np.sqrt(MSE_train_LR1)\n",
    "\n",
    "MSE_test_LR1=mean_squared_error(y_test,y_hat)\n",
    "RMSE_test_LR1=np.sqrt(MSE_test_LR1)\n",
    "\n",
    "print('r2_score for train data:',r2_train_LR1)\n",
    "print('r2_score for test data:',r2_test_LR1)\n",
    "print('-'*20)\n",
    "print('MSE for train data:',MSE_train_LR1)\n",
    "print('RMSE for train data:',RMSE_train_LR1)\n",
    "print('-'*20)\n",
    "print('MSE for test data:',MSE_test_LR1)\n",
    "print('RMSE for test data:',RMSE_test_LR1)"
   ]
  },
  {
   "cell_type": "markdown",
   "id": "97f17a1b",
   "metadata": {},
   "source": [
    "As R2 score has decreased significantly alnog with increase in RMSE error value, it can be observed that applying RFE technique didn't help us in improving our model performance"
   ]
  },
  {
   "cell_type": "markdown",
   "id": "439c6bf9",
   "metadata": {},
   "source": [
    "**Decision Tree Regressor**"
   ]
  },
  {
   "cell_type": "code",
   "execution_count": 136,
   "id": "1129a6fd",
   "metadata": {},
   "outputs": [],
   "source": [
    "from sklearn.tree import DecisionTreeRegressor"
   ]
  },
  {
   "cell_type": "code",
   "execution_count": 137,
   "id": "1147acad",
   "metadata": {},
   "outputs": [
    {
     "data": {
      "text/plain": [
       "DecisionTreeRegressor()"
      ]
     },
     "execution_count": 137,
     "metadata": {},
     "output_type": "execute_result"
    }
   ],
   "source": [
    "dt=DecisionTreeRegressor()\n",
    "dt.fit(X_train,y_train)"
   ]
  },
  {
   "cell_type": "code",
   "execution_count": 138,
   "id": "8d3c5c08",
   "metadata": {},
   "outputs": [
    {
     "name": "stdout",
     "output_type": "stream",
     "text": [
      "r2_score for train data: 0.9999940218514392\n",
      "r2_score for test data: 0.8806432139428649\n",
      "--------------------\n",
      "MSE for train data: 0.1981356452355378\n",
      "RMSE for train data: 0.44512430312839335\n",
      "--------------------\n",
      "MSE for test data: 3838.3127157652475\n",
      "RMSE for test data: 61.95411782735065\n"
     ]
    }
   ],
   "source": [
    "# RMSE & R2 Score\n",
    "y_pred2=dt.predict(X_train)\n",
    "y_hat2=dt.predict(X_test)\n",
    "\n",
    "r2_train=r2_score(y_train,y_pred2)\n",
    "r2_test=r2_score(y_test,y_hat2)\n",
    "\n",
    "MSE_train=mean_squared_error(y_train,y_pred2)\n",
    "RMSE_train=np.sqrt(MSE_train)\n",
    "\n",
    "MSE_test=mean_squared_error(y_test,y_hat2)\n",
    "RMSE_test=np.sqrt(MSE_test)\n",
    "\n",
    "print('r2_score for train data:',r2_train)\n",
    "print('r2_score for test data:',r2_test)\n",
    "print('-'*20)\n",
    "print('MSE for train data:',MSE_train)\n",
    "print('RMSE for train data:',RMSE_train)\n",
    "print('-'*20)\n",
    "print('MSE for test data:',MSE_test)\n",
    "print('RMSE for test data:',RMSE_test)"
   ]
  },
  {
   "cell_type": "code",
   "execution_count": 139,
   "id": "b74ab127",
   "metadata": {},
   "outputs": [
    {
     "name": "stdout",
     "output_type": "stream",
     "text": [
      "Adjusted R2 for train data: 0.9999940172609849\n",
      "Adjusted R2 for test data: 0.880367817574482\n"
     ]
    }
   ],
   "source": [
    "# Adjusted R2  Score\n",
    "train_adjusted_r2 = 1-((1-r2_train)*(13034-1)/(13034-1-10))\n",
    "test_adjusted_r2 = 1-((1-r2_test)*(4345-1)/(4345-1-10))\n",
    "\n",
    "print('Adjusted R2 for train data:',train_adjusted_r2)\n",
    "print('Adjusted R2 for test data:',test_adjusted_r2)"
   ]
  },
  {
   "cell_type": "markdown",
   "id": "232abfef",
   "metadata": {},
   "source": [
    "As we can see, model seems to be overfitted on training data, let's findout best parameters for decision tree model"
   ]
  },
  {
   "cell_type": "markdown",
   "id": "82d9dbbe",
   "metadata": {},
   "source": [
    "-  Cross validation"
   ]
  },
  {
   "cell_type": "code",
   "execution_count": 140,
   "id": "e621de7d",
   "metadata": {},
   "outputs": [
    {
     "name": "stdout",
     "output_type": "stream",
     "text": [
      "Fitting 5 folds for each of 486 candidates, totalling 2430 fits\n",
      "Wall time: 24 s\n"
     ]
    },
    {
     "data": {
      "text/plain": [
       "GridSearchCV(cv=5, estimator=DecisionTreeRegressor(random_state=42), n_jobs=-1,\n",
       "             param_grid={'max_depth': [3, 5, 10, 20, 30, 50],\n",
       "                         'min_samples_leaf': [1, 5, 8, 10, 15, 20, 30, 50, 100],\n",
       "                         'min_samples_split': [2, 5, 8, 10, 15, 20, 30, 50,\n",
       "                                               100]},\n",
       "             return_train_score=True, scoring='r2', verbose=1)"
      ]
     },
     "execution_count": 140,
     "metadata": {},
     "output_type": "execute_result"
    }
   ],
   "source": [
    "%%time\n",
    "from sklearn.model_selection import GridSearchCV\n",
    "\n",
    "params = {  'max_depth': [3,5,10,20,30,50],\n",
    "            'min_samples_split': [2,5,8,10,15,20,30,50,100],\n",
    "            'min_samples_leaf': [1,5,8,10,15,20,30,50,100],\n",
    "   }\n",
    "\n",
    "tree_reg = DecisionTreeRegressor(random_state=42)#object creation for decision tree with random state 3\n",
    "tree_cv = GridSearchCV(tree_reg, params, scoring=\"r2\", n_jobs=-1, verbose=1, cv=5,return_train_score=True)\n",
    "tree_cv.fit(X,y)\n"
   ]
  },
  {
   "cell_type": "code",
   "execution_count": 141,
   "id": "76940e9a",
   "metadata": {},
   "outputs": [
    {
     "data": {
      "text/plain": [
       "{'max_depth': 30, 'min_samples_leaf': 5, 'min_samples_split': 30}"
      ]
     },
     "execution_count": 141,
     "metadata": {},
     "output_type": "execute_result"
    }
   ],
   "source": [
    "tree_cv.best_params_"
   ]
  },
  {
   "cell_type": "code",
   "execution_count": 142,
   "id": "9236c197",
   "metadata": {},
   "outputs": [
    {
     "data": {
      "text/plain": [
       "DecisionTreeRegressor(criterion='absolute_error', max_depth=30,\n",
       "                      min_samples_leaf=5, min_samples_split=30)"
      ]
     },
     "execution_count": 142,
     "metadata": {},
     "output_type": "execute_result"
    }
   ],
   "source": [
    "dt=DecisionTreeRegressor(criterion= 'absolute_error',splitter= 'best',max_depth= 30,min_samples_split= 30,min_samples_leaf= 5)\n",
    "dt.fit(X_train,y_train)"
   ]
  },
  {
   "cell_type": "code",
   "execution_count": 143,
   "id": "d876c7b8",
   "metadata": {},
   "outputs": [
    {
     "name": "stdout",
     "output_type": "stream",
     "text": [
      "r2_score for train data: 0.9358203632960315\n",
      "r2_score for test data: 0.8998045120298201\n",
      "--------------------\n",
      "MSE for train data: 2127.1257480435784\n",
      "RMSE for train data: 46.120773497888976\n",
      "--------------------\n",
      "MSE for test data: 3222.1177215189873\n",
      "RMSE for test data: 56.763700738403124\n"
     ]
    }
   ],
   "source": [
    "# RMSE & R2 Score\n",
    "y_pred3=dt.predict(X_train)\n",
    "y_hat3=dt.predict(X_test)\n",
    "\n",
    "r2_train_DT=r2_score(y_train,y_pred3)\n",
    "r2_test_DT=r2_score(y_test,y_hat3)\n",
    "\n",
    "MSE_train_DT=mean_squared_error(y_train,y_pred3)\n",
    "RMSE_train_DT=np.sqrt(MSE_train_DT)\n",
    "\n",
    "MSE_test_DT=mean_squared_error(y_test,y_hat3)\n",
    "RMSE_test_DT=np.sqrt(MSE_test_DT)\n",
    "\n",
    "print('r2_score for train data:',r2_train_DT)\n",
    "print('r2_score for test data:',r2_test_DT)\n",
    "print('-'*20)\n",
    "print('MSE for train data:',MSE_train_DT)\n",
    "print('RMSE for train data:',RMSE_train_DT)\n",
    "print('-'*20)\n",
    "print('MSE for test data:',MSE_test_DT)\n",
    "print('RMSE for test data:',RMSE_test_DT)"
   ]
  },
  {
   "cell_type": "markdown",
   "id": "4a3115d7",
   "metadata": {},
   "source": [
    "**Random Forest Regressor**"
   ]
  },
  {
   "cell_type": "code",
   "execution_count": 144,
   "id": "a28ee108",
   "metadata": {},
   "outputs": [],
   "source": [
    "from sklearn.ensemble import RandomForestRegressor"
   ]
  },
  {
   "cell_type": "code",
   "execution_count": 145,
   "id": "68edaa84",
   "metadata": {},
   "outputs": [
    {
     "data": {
      "text/plain": [
       "RandomForestRegressor(random_state=42)"
      ]
     },
     "execution_count": 145,
     "metadata": {},
     "output_type": "execute_result"
    }
   ],
   "source": [
    "rf=RandomForestRegressor(random_state=42)\n",
    "rf.fit(X_train,y_train)"
   ]
  },
  {
   "cell_type": "code",
   "execution_count": 146,
   "id": "d9c893eb",
   "metadata": {},
   "outputs": [
    {
     "name": "stdout",
     "output_type": "stream",
     "text": [
      "r2_score for train data: 0.992001950035495\n",
      "r2_score for test data: 0.9412660626754275\n",
      "--------------------\n",
      "MSE for train data: 265.08186844544286\n",
      "RMSE for train data: 16.28133497123141\n",
      "--------------------\n",
      "MSE for test data: 1888.7842570756745\n",
      "RMSE for test data: 43.46014561728567\n"
     ]
    }
   ],
   "source": [
    "# RMSE & R2 Score\n",
    "y_pred4=rf.predict(X_train)\n",
    "y_hat4=rf.predict(X_test)\n",
    "\n",
    "r2_train=r2_score(y_train,y_pred4)\n",
    "r2_test=r2_score(y_test,y_hat4)\n",
    "\n",
    "MSE_train=mean_squared_error(y_train,y_pred4)\n",
    "RMSE_train=np.sqrt(MSE_train)\n",
    "\n",
    "MSE_test=mean_squared_error(y_test,y_hat4)\n",
    "RMSE_test=np.sqrt(MSE_test)\n",
    "\n",
    "print('r2_score for train data:',r2_train)\n",
    "print('r2_score for test data:',r2_test)\n",
    "print('-'*20)\n",
    "print('MSE for train data:',MSE_train)\n",
    "print('RMSE for train data:',RMSE_train)\n",
    "print('-'*20)\n",
    "print('MSE for test data:',MSE_test)\n",
    "print('RMSE for test data:',RMSE_test)"
   ]
  },
  {
   "cell_type": "markdown",
   "id": "e27749d4",
   "metadata": {},
   "source": [
    "-  Cross Validation"
   ]
  },
  {
   "cell_type": "code",
   "execution_count": 149,
   "id": "d4b1d70f",
   "metadata": {},
   "outputs": [
    {
     "name": "stdout",
     "output_type": "stream",
     "text": [
      "Fitting 5 folds for each of 30 candidates, totalling 150 fits\n",
      "Wall time: 4min 14s\n"
     ]
    },
    {
     "data": {
      "text/plain": [
       "GridSearchCV(cv=5, estimator=RandomForestRegressor(random_state=42), n_jobs=-1,\n",
       "             param_grid={'max_depth': [3, 5, 10, 20, 30, 50],\n",
       "                         'max_features': ['auto'],\n",
       "                         'n_estimators': [100, 200, 300, 400, 500]},\n",
       "             return_train_score=True, scoring='r2', verbose=1)"
      ]
     },
     "execution_count": 149,
     "metadata": {},
     "output_type": "execute_result"
    }
   ],
   "source": [
    "'''\n",
    "%%time\n",
    "\n",
    "params = {      'n_estimators': [100,200,300,400,500],\n",
    "                'max_features': ['auto'],\n",
    "                'max_depth' : [3,5,10,20,30,50],\n",
    "   }\n",
    "\n",
    "rf_reg = RandomForestRegressor(random_state=42)#object creation for decision tree with random state 3\n",
    "rf_cv = GridSearchCV(rf_reg, params, scoring=\"r2\", n_jobs=-1, verbose=1, cv=5,return_train_score=True)\n",
    "rf_cv.fit(X,y)\n",
    "'''"
   ]
  },
  {
   "cell_type": "code",
   "execution_count": 150,
   "id": "f7b10f2c",
   "metadata": {},
   "outputs": [
    {
     "data": {
      "text/plain": [
       "{'max_depth': 20, 'max_features': 'auto', 'n_estimators': 100}"
      ]
     },
     "execution_count": 150,
     "metadata": {},
     "output_type": "execute_result"
    }
   ],
   "source": [
    "# rf_cv.best_params_"
   ]
  },
  {
   "cell_type": "code",
   "execution_count": 151,
   "id": "7c847e89",
   "metadata": {},
   "outputs": [
    {
     "data": {
      "text/plain": [
       "RandomForestRegressor(max_depth=20, random_state=42)"
      ]
     },
     "execution_count": 151,
     "metadata": {},
     "output_type": "execute_result"
    }
   ],
   "source": [
    "rf=RandomForestRegressor(max_depth= 20, max_features= 'auto', n_estimators= 100,random_state=42)\n",
    "rf.fit(X_train,y_train)"
   ]
  },
  {
   "cell_type": "code",
   "execution_count": 152,
   "id": "8bca0d97",
   "metadata": {},
   "outputs": [
    {
     "name": "stdout",
     "output_type": "stream",
     "text": [
      "r2_score for train data: 0.991599249251701\n",
      "r2_score for test data: 0.9411760225909024\n",
      "--------------------\n",
      "MSE for train data: 278.42870632046305\n",
      "RMSE for train data: 16.686183096216553\n",
      "--------------------\n",
      "MSE for test data: 1891.6797941689363\n",
      "RMSE for test data: 43.49344541616514\n"
     ]
    }
   ],
   "source": [
    "# RMSE & R2 Score\n",
    "y_pred5=rf.predict(X_train)\n",
    "y_hat5=rf.predict(X_test)\n",
    "\n",
    "r2_train_RF=r2_score(y_train,y_pred5)\n",
    "r2_test_RF=r2_score(y_test,y_hat5)\n",
    "\n",
    "MSE_train_RF=mean_squared_error(y_train,y_pred5)\n",
    "RMSE_train_RF=np.sqrt(MSE_train_RF)\n",
    "\n",
    "MSE_test_RF=mean_squared_error(y_test,y_hat5)\n",
    "RMSE_test_RF=np.sqrt(MSE_test_RF)\n",
    "\n",
    "print('r2_score for train data:',r2_train_RF)\n",
    "print('r2_score for test data:',r2_test_RF)\n",
    "print('-'*20)\n",
    "print('MSE for train data:',MSE_train_RF)\n",
    "print('RMSE for train data:',RMSE_train_RF)\n",
    "print('-'*20)\n",
    "print('MSE for test data:',MSE_test_RF)\n",
    "print('RMSE for test data:',RMSE_test_RF)\n"
   ]
  },
  {
   "cell_type": "markdown",
   "id": "6a6345a6",
   "metadata": {},
   "source": [
    "**Gradient Boost**"
   ]
  },
  {
   "cell_type": "code",
   "execution_count": 153,
   "id": "a0488429",
   "metadata": {},
   "outputs": [],
   "source": [
    "from sklearn.ensemble import GradientBoostingRegressor"
   ]
  },
  {
   "cell_type": "code",
   "execution_count": 154,
   "id": "64d99e57",
   "metadata": {},
   "outputs": [
    {
     "data": {
      "text/plain": [
       "GradientBoostingRegressor()"
      ]
     },
     "execution_count": 154,
     "metadata": {},
     "output_type": "execute_result"
    }
   ],
   "source": [
    "gb=GradientBoostingRegressor()\n",
    "gb.fit(X_train,y_train)"
   ]
  },
  {
   "cell_type": "code",
   "execution_count": 155,
   "id": "39cf0920",
   "metadata": {},
   "outputs": [
    {
     "name": "stdout",
     "output_type": "stream",
     "text": [
      "r2_score for train data: 0.8518148387945058\n",
      "r2_score for test data: 0.8524154025510633\n",
      "--------------------\n",
      "MSE for train data: 4911.347088674068\n",
      "RMSE for train data: 70.08100376474404\n",
      "--------------------\n",
      "MSE for test data: 4746.071469854945\n",
      "RMSE for test data: 68.89173731192257\n"
     ]
    }
   ],
   "source": [
    "# RMSE & R2 Score\n",
    "y_pred6=gb.predict(X_train)\n",
    "y_hat6=gb.predict(X_test)\n",
    "\n",
    "r2_train_GB=r2_score(y_train,y_pred6)\n",
    "r2_test_GB=r2_score(y_test,y_hat6)\n",
    "\n",
    "MSE_train_GB=mean_squared_error(y_train,y_pred6)\n",
    "RMSE_train_GB=np.sqrt(MSE_train_GB)\n",
    "\n",
    "MSE_test_GB=mean_squared_error(y_test,y_hat6)\n",
    "RMSE_test_GB=np.sqrt(MSE_test_GB)\n",
    "\n",
    "print('r2_score for train data:',r2_train_GB)\n",
    "print('r2_score for test data:',r2_test_GB)\n",
    "print('-'*20)\n",
    "print('MSE for train data:',MSE_train_GB)\n",
    "print('RMSE for train data:',RMSE_train_GB)\n",
    "print('-'*20)\n",
    "print('MSE for test data:',MSE_test_GB)\n",
    "print('RMSE for test data:',RMSE_test_GB)"
   ]
  },
  {
   "cell_type": "markdown",
   "id": "073639c4",
   "metadata": {},
   "source": [
    "**XGboost**"
   ]
  },
  {
   "cell_type": "code",
   "execution_count": 156,
   "id": "bc169031",
   "metadata": {},
   "outputs": [],
   "source": [
    "from xgboost import XGBRegressor"
   ]
  },
  {
   "cell_type": "code",
   "execution_count": 157,
   "id": "92453fab",
   "metadata": {},
   "outputs": [
    {
     "data": {
      "text/plain": [
       "XGBRegressor(base_score=0.5, booster='gbtree', colsample_bylevel=1,\n",
       "             colsample_bynode=1, colsample_bytree=1, enable_categorical=False,\n",
       "             gamma=0, gpu_id=-1, importance_type=None,\n",
       "             interaction_constraints='', learning_rate=0.300000012,\n",
       "             max_delta_step=0, max_depth=6, min_child_weight=1, missing=nan,\n",
       "             monotone_constraints='()', n_estimators=100, n_jobs=8,\n",
       "             num_parallel_tree=1, predictor='auto', random_state=0, reg_alpha=0,\n",
       "             reg_lambda=1, scale_pos_weight=1, subsample=1, tree_method='exact',\n",
       "             validate_parameters=1, verbosity=None)"
      ]
     },
     "execution_count": 157,
     "metadata": {},
     "output_type": "execute_result"
    }
   ],
   "source": [
    "xgb=XGBRegressor()\n",
    "xgb.fit(X_train,y_train)"
   ]
  },
  {
   "cell_type": "code",
   "execution_count": 158,
   "id": "c0eeb97d",
   "metadata": {},
   "outputs": [
    {
     "name": "stdout",
     "output_type": "stream",
     "text": [
      "r2_score for train data: 0.9770259001099635\n",
      "r2_score for test data: 0.9483172553706585\n",
      "--------------------\n",
      "MSE for train data: 761.4377694225883\n",
      "RMSE for train data: 27.59416187208063\n",
      "--------------------\n",
      "MSE for test data: 1662.0298053391725\n",
      "RMSE for test data: 40.76799977113389\n"
     ]
    }
   ],
   "source": [
    "# RMSE & R2 Score\n",
    "y_pred7=xgb.predict(X_train)\n",
    "y_hat7=xgb.predict(X_test)\n",
    "\n",
    "r2_train=r2_score(y_train,y_pred7)\n",
    "r2_test=r2_score(y_test,y_hat7)\n",
    "\n",
    "MSE_train=mean_squared_error(y_train,y_pred7)\n",
    "RMSE_train=np.sqrt(MSE_train)\n",
    "\n",
    "MSE_test=mean_squared_error(y_test,y_hat7)\n",
    "RMSE_test=np.sqrt(MSE_test)\n",
    "\n",
    "print('r2_score for train data:',r2_train)\n",
    "print('r2_score for test data:',r2_test)\n",
    "print('-'*20)\n",
    "print('MSE for train data:',MSE_train)\n",
    "print('RMSE for train data:',RMSE_train)\n",
    "print('-'*20)\n",
    "print('MSE for test data:',MSE_test)\n",
    "print('RMSE for test data:',RMSE_test)"
   ]
  },
  {
   "cell_type": "markdown",
   "id": "3b58f748",
   "metadata": {},
   "source": [
    "-  Cross Validation"
   ]
  },
  {
   "cell_type": "code",
   "execution_count": 159,
   "id": "02124f09",
   "metadata": {},
   "outputs": [
    {
     "name": "stdout",
     "output_type": "stream",
     "text": [
      "Fitting 3 folds for each of 100 candidates, totalling 300 fits\n",
      "Wall time: 2min 49s\n"
     ]
    },
    {
     "data": {
      "text/plain": [
       "RandomizedSearchCV(cv=3,\n",
       "                   estimator=XGBRegressor(base_score=None, booster=None,\n",
       "                                          colsample_bylevel=None,\n",
       "                                          colsample_bynode=None,\n",
       "                                          colsample_bytree=None,\n",
       "                                          enable_categorical=False, gamma=None,\n",
       "                                          gpu_id=None, importance_type=None,\n",
       "                                          interaction_constraints=None,\n",
       "                                          learning_rate=None,\n",
       "                                          max_delta_step=None, max_depth=None,\n",
       "                                          min_child_weight=None, missing=nan,\n",
       "                                          monotone_constraints=...\n",
       "                                                  102.4, 200],\n",
       "                                        'learning_rate': [0.01, 0.03, 0.06, 0.1,\n",
       "                                                          0.15, 0.2, 0.25,\n",
       "                                                          0.300000012, 0.4, 0.5,\n",
       "                                                          0.6, 0.7],\n",
       "                                        'max_depth': [5, 6, 7, 8, 9, 10, 11, 12,\n",
       "                                                      13, 14],\n",
       "                                        'n_estimators': [50, 65, 80, 100, 115,\n",
       "                                                         130, 150],\n",
       "                                        'reg_alpha': [0, 0.1, 0.2, 0.4, 0.8,\n",
       "                                                      1.6, 3.2, 6.4, 12.8, 25.6,\n",
       "                                                      51.2, 102.4, 200],\n",
       "                                        'reg_lambda': [0, 0.1, 0.2, 0.4, 0.8,\n",
       "                                                       1.6, 3.2, 6.4, 12.8,\n",
       "                                                       25.6, 51.2, 102.4,\n",
       "                                                       200]},\n",
       "                   random_state=42, scoring='r2', verbose=2)"
      ]
     },
     "execution_count": 159,
     "metadata": {},
     "output_type": "execute_result"
    }
   ],
   "source": [
    "'''\n",
    "%%time\n",
    "from sklearn.model_selection import RandomizedSearchCV\n",
    "param_grid = {'gamma': [0,0.1,0.2,0.4,0.8,1.6,3.2,6.4,12.8,25.6,51.2,102.4, 200],\n",
    "              'learning_rate': [0.01, 0.03, 0.06, 0.1, 0.15, 0.2, 0.25, 0.300000012, 0.4, 0.5, 0.6, 0.7],\n",
    "              'max_depth': [5,6,7,8,9,10,11,12,13,14],\n",
    "              'n_estimators': [50,65,80,100,115,130,150],\n",
    "              'reg_alpha': [0,0.1,0.2,0.4,0.8,1.6,3.2,6.4,12.8,25.6,51.2,102.4,200],\n",
    "              'reg_lambda': [0,0.1,0.2,0.4,0.8,1.6,3.2,6.4,12.8,25.6,51.2,102.4,200]}\n",
    "\n",
    "xgb_reg=XGBRegressor(random_state=42,verbosity=0,silent=0)\n",
    "xgb_cv= RandomizedSearchCV(estimator=xgb_reg, scoring='r2',param_distributions=param_grid, n_iter=100, cv=3, \n",
    "                               verbose=2, random_state=42, n_jobs=-1)\n",
    "xgb_cv.fit(X,y)\n",
    "'''"
   ]
  },
  {
   "cell_type": "code",
   "execution_count": 160,
   "id": "cb9e7501",
   "metadata": {},
   "outputs": [
    {
     "data": {
      "text/plain": [
       "{'reg_lambda': 0.4,\n",
       " 'reg_alpha': 200,\n",
       " 'n_estimators': 150,\n",
       " 'max_depth': 5,\n",
       " 'learning_rate': 0.2,\n",
       " 'gamma': 0.1}"
      ]
     },
     "execution_count": 160,
     "metadata": {},
     "output_type": "execute_result"
    }
   ],
   "source": [
    "# xgb_cv.best_params_"
   ]
  },
  {
   "cell_type": "code",
   "execution_count": 161,
   "id": "09c43144",
   "metadata": {},
   "outputs": [
    {
     "data": {
      "text/plain": [
       "XGBRegressor(base_score=0.5, booster='gbtree', colsample_bylevel=1,\n",
       "             colsample_bynode=1, colsample_bytree=1, enable_categorical=False,\n",
       "             gamma=0.1, gpu_id=-1, importance_type=None,\n",
       "             interaction_constraints='', learning_rate=0.2, max_delta_step=0,\n",
       "             max_depth=5, min_child_weight=1, missing=nan,\n",
       "             monotone_constraints='()', n_estimators=150, n_jobs=8,\n",
       "             num_parallel_tree=1, predictor='auto', random_state=0,\n",
       "             reg_alpha=200, reg_lambda=0.4, scale_pos_weight=1, subsample=1,\n",
       "             tree_method='exact', validate_parameters=1, verbosity=None)"
      ]
     },
     "execution_count": 161,
     "metadata": {},
     "output_type": "execute_result"
    }
   ],
   "source": [
    "xgb=XGBRegressor(reg_lambda= 0.4, reg_alpha= 200, n_estimators=150, max_depth=5, learning_rate=0.2, gamma=0.1)\n",
    "xgb.fit(X_train,y_train)"
   ]
  },
  {
   "cell_type": "code",
   "execution_count": 162,
   "id": "d7be3b58",
   "metadata": {},
   "outputs": [
    {
     "name": "stdout",
     "output_type": "stream",
     "text": [
      "r2_score for train data: 0.9613583405685951\n",
      "r2_score for test data: 0.9451050716379099\n",
      "--------------------\n",
      "MSE for train data: 1280.712589614733\n",
      "RMSE for train data: 35.7870449969641\n",
      "--------------------\n",
      "MSE for test data: 1765.32821068398\n",
      "RMSE for test data: 42.015809056639384\n"
     ]
    }
   ],
   "source": [
    "# RMSE & R2 Score\n",
    "y_pred8=xgb.predict(X_train)\n",
    "y_hat8=xgb.predict(X_test)\n",
    "\n",
    "r2_train_XGB=r2_score(y_train,y_pred8)\n",
    "r2_test_XGB=r2_score(y_test,y_hat8)\n",
    "\n",
    "MSE_train_XGB=mean_squared_error(y_train,y_pred8)\n",
    "RMSE_train_XGB=np.sqrt(MSE_train_XGB)\n",
    "\n",
    "MSE_test_XGB=mean_squared_error(y_test,y_hat8)\n",
    "RMSE_test_XGB=np.sqrt(MSE_test_XGB)\n",
    "\n",
    "print('r2_score for train data:',r2_train_XGB)\n",
    "print('r2_score for test data:',r2_test_XGB)\n",
    "print('-'*20)\n",
    "print('MSE for train data:',MSE_train_XGB)\n",
    "print('RMSE for train data:',RMSE_train_XGB)\n",
    "print('-'*20)\n",
    "print('MSE for test data:',MSE_test_XGB)\n",
    "print('RMSE for test data:',RMSE_test_XGB)"
   ]
  },
  {
   "cell_type": "markdown",
   "id": "3c805e3f",
   "metadata": {},
   "source": [
    "### Conclusion"
   ]
  },
  {
   "cell_type": "code",
   "execution_count": 163,
   "id": "5e69aea8",
   "metadata": {},
   "outputs": [],
   "source": [
    "results=pd.DataFrame({'Models':['LR','DT','RF','GB','XGB'],'RMSE_Errors':[RMSE_test_LR,\n",
    "                                                                                 RMSE_test_DT,\n",
    "                                                                                 RMSE_test_RF,\n",
    "                                                                                 RMSE_test_GB,\n",
    "                                                                                 RMSE_test_XGB],\n",
    "                                                                        'R2_Score':[r2_test_LR,\n",
    "                                                                                 r2_test_DT,\n",
    "                                                                                 r2_test_RF,\n",
    "                                                                                 r2_test_GB,\n",
    "                                                                                 r2_test_XGB,\n",
    "                                                                                 ]})"
   ]
  },
  {
   "cell_type": "code",
   "execution_count": 164,
   "id": "d4abe968",
   "metadata": {},
   "outputs": [
    {
     "data": {
      "text/html": [
       "<div>\n",
       "<style scoped>\n",
       "    .dataframe tbody tr th:only-of-type {\n",
       "        vertical-align: middle;\n",
       "    }\n",
       "\n",
       "    .dataframe tbody tr th {\n",
       "        vertical-align: top;\n",
       "    }\n",
       "\n",
       "    .dataframe thead th {\n",
       "        text-align: right;\n",
       "    }\n",
       "</style>\n",
       "<table border=\"1\" class=\"dataframe\">\n",
       "  <thead>\n",
       "    <tr style=\"text-align: right;\">\n",
       "      <th></th>\n",
       "      <th>Models</th>\n",
       "      <th>RMSE_Errors</th>\n",
       "      <th>R2_Score</th>\n",
       "    </tr>\n",
       "  </thead>\n",
       "  <tbody>\n",
       "    <tr>\n",
       "      <th>4</th>\n",
       "      <td>XGB</td>\n",
       "      <td>42.015809</td>\n",
       "      <td>0.945105</td>\n",
       "    </tr>\n",
       "    <tr>\n",
       "      <th>2</th>\n",
       "      <td>RF</td>\n",
       "      <td>43.493445</td>\n",
       "      <td>0.941176</td>\n",
       "    </tr>\n",
       "    <tr>\n",
       "      <th>1</th>\n",
       "      <td>DT</td>\n",
       "      <td>56.763701</td>\n",
       "      <td>0.899805</td>\n",
       "    </tr>\n",
       "    <tr>\n",
       "      <th>3</th>\n",
       "      <td>GB</td>\n",
       "      <td>68.891737</td>\n",
       "      <td>0.852415</td>\n",
       "    </tr>\n",
       "    <tr>\n",
       "      <th>0</th>\n",
       "      <td>LR</td>\n",
       "      <td>103.698467</td>\n",
       "      <td>0.665611</td>\n",
       "    </tr>\n",
       "  </tbody>\n",
       "</table>\n",
       "</div>"
      ],
      "text/plain": [
       "  Models  RMSE_Errors  R2_Score\n",
       "4    XGB    42.015809  0.945105\n",
       "2     RF    43.493445  0.941176\n",
       "1     DT    56.763701  0.899805\n",
       "3     GB    68.891737  0.852415\n",
       "0     LR   103.698467  0.665611"
      ]
     },
     "execution_count": 164,
     "metadata": {},
     "output_type": "execute_result"
    }
   ],
   "source": [
    "results.sort_values(by='R2_Score',ascending=False)"
   ]
  },
  {
   "cell_type": "code",
   "execution_count": 165,
   "id": "e3975e1b",
   "metadata": {},
   "outputs": [
    {
     "data": {
      "image/png": "[encoded data removed]",
      "text/plain": [
       "<Figure size 720x288 with 2 Axes>"
      ]
     },
     "metadata": {},
     "output_type": "display_data"
    }
   ],
   "source": [
    "plt.figure(figsize=(10,4))\n",
    "plt.subplot(1,2,1)\n",
    "sns.barplot(x='RMSE_Errors',y='Models',data=results,orient='h')\n",
    "plt.title(\"Test RMSE Errors\")\n",
    "\n",
    "plt.subplot(1,2,2)\n",
    "sns.barplot(x='Models',y='R2_Score',data=results)\n",
    "plt.title(\"Test R2 Scores\")\n",
    "plt.show()"
   ]
  },
  {
   "cell_type": "markdown",
   "id": "e8482c63",
   "metadata": {},
   "source": [
    "Criteria to select the **best model** would be:<br>\n",
    "-Model having **highest R2_Score** along with the **lowest RMSE_Error**"
   ]
  },
  {
   "cell_type": "markdown",
   "id": "e304f747",
   "metadata": {},
   "source": [
    "The result shows that following are our top 2 model based on **'R2 Score' & 'RMSE Error'**\n",
    "\n",
    "-  XGB Regressor\n",
    "-  Random Forest Regressor"
   ]
  },
  {
   "cell_type": "markdown",
   "id": "63678d70",
   "metadata": {},
   "source": [
    "We should consider to deploy **XGB Regression** for prediction, as it is having the best **R2 Score : 0.945** along with the lowest **RMSE Error :42.02**"
   ]
  }
 ],
 "metadata": {
  "kernelspec": {
   "display_name": "Python 3 (ipykernel)",
   "language": "python",
   "name": "python3"
  },
  "language_info": {
   "codemirror_mode": {
    "name": "ipython",
    "version": 3
   },
   "file_extension": ".py",
   "mimetype": "text/x-python",
   "name": "python",
   "nbconvert_exporter": "python",
   "pygments_lexer": "ipython3",
   "version": "3.9.7"
  }
 },
 "nbformat": 4,
 "nbformat_minor": 5
}
